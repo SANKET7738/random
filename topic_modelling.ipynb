{
  "nbformat": 4,
  "nbformat_minor": 0,
  "metadata": {
    "kernelspec": {
      "display_name": "Python 3",
      "language": "python",
      "name": "python3"
    },
    "language_info": {
      "codemirror_mode": {
        "name": "ipython",
        "version": 3
      },
      "file_extension": ".py",
      "mimetype": "text/x-python",
      "name": "python",
      "nbconvert_exporter": "python",
      "pygments_lexer": "ipython3",
      "version": "3.7.4"
    },
    "colab": {
      "name": "topic modelling.ipynb",
      "provenance": [],
      "include_colab_link": true
    }
  },
  "cells": [
    {
      "cell_type": "markdown",
      "metadata": {
        "id": "view-in-github",
        "colab_type": "text"
      },
      "source": [
        "<a href=\"https://colab.research.google.com/github/SANKET7738/random/blob/master/topic_modelling.ipynb\" target=\"_parent\"><img src=\"https://colab.research.google.com/assets/colab-badge.svg\" alt=\"Open In Colab\"/></a>"
      ]
    },
    {
      "cell_type": "code",
      "metadata": {
        "id": "KFNyNDXebbWT",
        "outputId": "b693d354-43b0-42bc-97a7-d0ffd07d44d8",
        "colab": {
          "base_uri": "https://localhost:8080/",
          "height": 34
        }
      },
      "source": [
        "from google.colab import drive\n",
        "drive.mount('/content/drive')"
      ],
      "execution_count": 1,
      "outputs": [
        {
          "output_type": "stream",
          "text": [
            "Drive already mounted at /content/drive; to attempt to forcibly remount, call drive.mount(\"/content/drive\", force_remount=True).\n"
          ],
          "name": "stdout"
        }
      ]
    },
    {
      "cell_type": "code",
      "metadata": {
        "id": "D-PSIOa03duq"
      },
      "source": [
        "import pickle\n",
        "import pandas as pd"
      ],
      "execution_count": 2,
      "outputs": []
    },
    {
      "cell_type": "code",
      "metadata": {
        "id": "qViKcE4m3duv"
      },
      "source": [
        "file = open('drive/My Drive/gssoc/preprocessed/id2word.txt','rb')\n",
        "id2word = pickle.load(file)\n",
        "file.close()"
      ],
      "execution_count": 3,
      "outputs": []
    },
    {
      "cell_type": "code",
      "metadata": {
        "id": "B25ODzuL3duz",
        "outputId": "f18945c2-c356-4092-826a-d7660ae43dfc",
        "colab": {
          "base_uri": "https://localhost:8080/",
          "height": 34
        }
      },
      "source": [
        "print(id2word)"
      ],
      "execution_count": 4,
      "outputs": [
        {
          "output_type": "stream",
          "text": [
            "Dictionary(55850 unique tokens: ['file', 'html', 'info', 'leader', 'learn']...)\n"
          ],
          "name": "stdout"
        }
      ]
    },
    {
      "cell_type": "code",
      "metadata": {
        "id": "R7VlzsKa3du5"
      },
      "source": [
        "file = open('drive/My Drive/gssoc/preprocessed/data_lemmatized.txt','rb')\n",
        "data_lemmatized = pickle.load(file)\n",
        "file.close()"
      ],
      "execution_count": 6,
      "outputs": []
    },
    {
      "cell_type": "code",
      "metadata": {
        "id": "xqDoc8qn3du8",
        "outputId": "a1bffec4-eea8-4d1b-fb7f-8be18c69765b",
        "colab": {
          "base_uri": "https://localhost:8080/",
          "height": 34
        }
      },
      "source": [
        "print(data_lemmatized[:2])"
      ],
      "execution_count": 7,
      "outputs": [
        {
          "output_type": "stream",
          "text": [
            "[['info', 'page', 'file', 'wait', 'team', 'leader', 'process', 'learn', 'html'], ['team', 'member', 'draw', 'mail', 'mail']]\n"
          ],
          "name": "stdout"
        }
      ]
    },
    {
      "cell_type": "code",
      "metadata": {
        "id": "dtUKaiyY3dvA"
      },
      "source": [
        "file = open('drive/My Drive/gssoc/preprocessed/corpus.txt','rb')\n",
        "corpus = pickle.load(file)\n",
        "file.close()"
      ],
      "execution_count": 8,
      "outputs": []
    },
    {
      "cell_type": "code",
      "metadata": {
        "id": "4VnwUjfd3dvD",
        "outputId": "1feaf41a-09c2-48dd-e4db-d00002d6c0ef",
        "colab": {
          "base_uri": "https://localhost:8080/",
          "height": 34
        }
      },
      "source": [
        "print(corpus[:1])"
      ],
      "execution_count": 9,
      "outputs": [
        {
          "output_type": "stream",
          "text": [
            "[[(0, 1), (1, 1), (2, 1), (3, 1), (4, 1), (5, 1), (6, 1), (7, 1), (8, 1)]]\n"
          ],
          "name": "stdout"
        }
      ]
    },
    {
      "cell_type": "code",
      "metadata": {
        "id": "S_fOfP7Zp9zB",
        "outputId": "37909fb6-e618-4968-a296-9b2da4a47c9b",
        "colab": {
          "base_uri": "https://localhost:8080/",
          "height": 119
        }
      },
      "source": [
        "pip uninstall gensim"
      ],
      "execution_count": 10,
      "outputs": [
        {
          "output_type": "stream",
          "text": [
            "Uninstalling gensim-3.8.3:\n",
            "  Would remove:\n",
            "    /usr/local/lib/python3.6/dist-packages/gensim-3.8.3.dist-info/*\n",
            "    /usr/local/lib/python3.6/dist-packages/gensim/*\n",
            "Proceed (y/n)? y\n",
            "  Successfully uninstalled gensim-3.8.3\n"
          ],
          "name": "stdout"
        }
      ]
    },
    {
      "cell_type": "code",
      "metadata": {
        "id": "aYS3AH5DqZTz",
        "outputId": "0fd3313c-278f-4a23-e151-2227be09a0cb",
        "colab": {
          "base_uri": "https://localhost:8080/",
          "height": 323
        }
      },
      "source": [
        "pip install gensim"
      ],
      "execution_count": 11,
      "outputs": [
        {
          "output_type": "stream",
          "text": [
            "Collecting gensim\n",
            "  Using cached https://files.pythonhosted.org/packages/2b/e0/fa6326251692056dc880a64eb22117e03269906ba55a6864864d24ec8b4e/gensim-3.8.3-cp36-cp36m-manylinux1_x86_64.whl\n",
            "Requirement already satisfied: scipy>=0.18.1 in /usr/local/lib/python3.6/dist-packages (from gensim) (1.4.1)\n",
            "Requirement already satisfied: six>=1.5.0 in /usr/local/lib/python3.6/dist-packages (from gensim) (1.15.0)\n",
            "Requirement already satisfied: numpy>=1.11.3 in /usr/local/lib/python3.6/dist-packages (from gensim) (1.18.5)\n",
            "Requirement already satisfied: smart-open>=1.8.1 in /usr/local/lib/python3.6/dist-packages (from gensim) (2.2.0)\n",
            "Requirement already satisfied: requests in /usr/local/lib/python3.6/dist-packages (from smart-open>=1.8.1->gensim) (2.23.0)\n",
            "Requirement already satisfied: chardet<4,>=3.0.2 in /usr/local/lib/python3.6/dist-packages (from requests->smart-open>=1.8.1->gensim) (3.0.4)\n",
            "Requirement already satisfied: urllib3!=1.25.0,!=1.25.1,<1.26,>=1.21.1 in /usr/local/lib/python3.6/dist-packages (from requests->smart-open>=1.8.1->gensim) (1.24.3)\n",
            "Requirement already satisfied: certifi>=2017.4.17 in /usr/local/lib/python3.6/dist-packages (from requests->smart-open>=1.8.1->gensim) (2020.6.20)\n",
            "Requirement already satisfied: idna<3,>=2.5 in /usr/local/lib/python3.6/dist-packages (from requests->smart-open>=1.8.1->gensim) (2.10)\n",
            "Installing collected packages: gensim\n",
            "Successfully installed gensim-3.8.3\n"
          ],
          "name": "stdout"
        },
        {
          "output_type": "display_data",
          "data": {
            "application/vnd.colab-display-data+json": {
              "pip_warning": {
                "packages": [
                  "gensim"
                ]
              }
            }
          },
          "metadata": {
            "tags": []
          }
        }
      ]
    },
    {
      "cell_type": "code",
      "metadata": {
        "id": "ERXcA0ue3dvH"
      },
      "source": [
        "import gensim\n",
        "import gensim.corpora as corpora\n",
        "from gensim.utils import simple_preprocess\n",
        "from gensim.models import CoherenceModel"
      ],
      "execution_count": 10,
      "outputs": []
    },
    {
      "cell_type": "code",
      "metadata": {
        "id": "3nM9aXaL3dvK"
      },
      "source": [
        "lda_model = gensim.models.LdaModel(corpus=corpus,\n",
        "                                  id2word=id2word,\n",
        "                                  num_topics=20,\n",
        "                                  random_state=0,\n",
        "                                  update_every=1,\n",
        "                                  chunksize=100,\n",
        "                                  passes=1,\n",
        "                                  alpha='auto',\n",
        "                                  per_word_topics='True')"
      ],
      "execution_count": null,
      "outputs": []
    },
    {
      "cell_type": "code",
      "metadata": {
        "id": "AF3exUyb3dvN"
      },
      "source": [
        "file = open('drive/My Drive/gssoc/pickle/lda_model_pkl','rb')\n",
        "lda_model_pkl = pickle.load(file)\n",
        "file.close()"
      ],
      "execution_count": 11,
      "outputs": []
    },
    {
      "cell_type": "code",
      "metadata": {
        "id": "LQFa-Rjo3dvR",
        "outputId": "0fca54c3-3674-40c2-cd61-ccdbc72c8cc5",
        "colab": {
          "base_uri": "https://localhost:8080/",
          "height": 54
        }
      },
      "source": [
        "print(lda_model_pkl.print_topics())"
      ],
      "execution_count": 12,
      "outputs": [
        {
          "output_type": "stream",
          "text": [
            "[(0, '0.190*\"ask\" + 0.148*\"woman\" + 0.127*\"question\" + 0.115*\"moment\" + 0.098*\"answer\" + 0.076*\"young\" + 0.051*\"mother\" + 0.037*\"wife\" + 0.035*\"husband\" + 0.016*\"repeat\"'), (1, '0.066*\"away\" + 0.045*\"walk\" + 0.039*\"hand\" + 0.039*\"heart\" + 0.038*\"fall\" + 0.037*\"face\" + 0.036*\"stand\" + 0.035*\"hold\" + 0.033*\"open\" + 0.031*\"close\"'), (2, '0.110*\"water\" + 0.106*\"run\" + 0.105*\"link\" + 0.068*\"add\" + 0.054*\"trust\" + 0.044*\"chat\" + 0.044*\"video\" + 0.041*\"photo\" + 0.031*\"cream\" + 0.028*\"danger\"'), (3, '0.082*\"tri\" + 0.079*\"suggest\" + 0.066*\"blood\" + 0.046*\"smell\" + 0.044*\"ride\" + 0.041*\"wind\" + 0.038*\"hit\" + 0.037*\"round\" + 0.036*\"intern\" + 0.035*\"bless\"'), (4, '0.155*\"hate\" + 0.120*\"child\" + 0.052*\"form\" + 0.052*\"exist\" + 0.052*\"student\" + 0.046*\"public\" + 0.043*\"nation\" + 0.043*\"program\" + 0.042*\"state\" + 0.038*\"folk\"'), (5, '0.134*\"food\" + 0.112*\"eat\" + 0.100*\"pay\" + 0.077*\"vote\" + 0.076*\"put\" + 0.054*\"dear\" + 0.046*\"cost\" + 0.043*\"coffe\" + 0.041*\"fish\" + 0.036*\"meal\"'), (6, '0.494*\"school\" + 0.235*\"drive\" + 0.093*\"white\" + 0.039*\"hole\" + 0.026*\"chicken\" + 0.024*\"kitchen\" + 0.020*\"chines\" + 0.014*\"salad\" + 0.012*\"high\" + 0.008*\"sidewalk\"'), (7, '0.164*\"night\" + 0.155*\"home\" + 0.099*\"hour\" + 0.091*\"sleep\" + 0.078*\"tomorrow\" + 0.070*\"stay\" + 0.065*\"tonight\" + 0.061*\"wake\" + 0.061*\"drink\" + 0.027*\"even\"'), (8, '0.163*\"music\" + 0.132*\"wear\" + 0.098*\"black\" + 0.073*\"birthday\" + 0.069*\"rain\" + 0.050*\"record\" + 0.044*\"shirt\" + 0.043*\"shoe\" + 0.041*\"ahead\" + 0.030*\"season\"'), (9, '0.076*\"strong\" + 0.067*\"support\" + 0.060*\"burn\" + 0.046*\"push\" + 0.043*\"clear\" + 0.043*\"leader\" + 0.041*\"project\" + 0.038*\"race\" + 0.037*\"stage\" + 0.034*\"american\"'), (10, '0.113*\"teach\" + 0.112*\"death\" + 0.100*\"name\" + 0.094*\"teacher\" + 0.079*\"rule\" + 0.072*\"claim\" + 0.063*\"tast\" + 0.061*\"fill\" + 0.047*\"address\" + 0.045*\"medium\"'), (11, '0.187*\"write\" + 0.172*\"read\" + 0.123*\"blog\" + 0.079*\"post\" + 0.069*\"book\" + 0.054*\"site\" + 0.044*\"list\" + 0.037*\"page\" + 0.034*\"email\" + 0.017*\"space\"'), (12, '0.145*\"stuff\" + 0.070*\"comment\" + 0.066*\"test\" + 0.065*\"current\" + 0.049*\"team\" + 0.037*\"huge\" + 0.036*\"fail\" + 0.035*\"bear\" + 0.031*\"perform\" + 0.031*\"urllink\"'), (13, '0.066*\"creat\" + 0.065*\"allow\" + 0.050*\"level\" + 0.049*\"develop\" + 0.048*\"human\" + 0.044*\"high\" + 0.038*\"effect\" + 0.032*\"provid\" + 0.028*\"view\" + 0.027*\"similar\"'), (14, '0.034*\"think\" + 0.034*\"know\" + 0.032*\"go\" + 0.027*\"time\" + 0.023*\"want\" + 0.022*\"feel\" + 0.021*\"good\" + 0.021*\"thing\" + 0.018*\"come\" + 0.016*\"work\"'), (15, '0.097*\"probabl\" + 0.067*\"posit\" + 0.063*\"self\" + 0.063*\"result\" + 0.062*\"power\" + 0.054*\"truth\" + 0.053*\"websit\" + 0.040*\"news\" + 0.040*\"direct\" + 0.039*\"opinion\"'), (16, '0.409*\"love\" + 0.122*\"girl\" + 0.080*\"listen\" + 0.055*\"song\" + 0.047*\"phone\" + 0.046*\"smile\" + 0.031*\"cold\" + 0.029*\"stick\" + 0.022*\"bodi\" + 0.021*\"warm\"'), (17, '0.072*\"govern\" + 0.046*\"report\" + 0.044*\"process\" + 0.042*\"suffer\" + 0.041*\"mail\" + 0.041*\"refer\" + 0.040*\"concern\" + 0.036*\"action\" + 0.035*\"lack\" + 0.032*\"base\"'), (18, '0.041*\"room\" + 0.036*\"small\" + 0.030*\"buy\" + 0.028*\"build\" + 0.025*\"visit\" + 0.024*\"train\" + 0.022*\"event\" + 0.020*\"offer\" + 0.020*\"sell\" + 0.020*\"pull\"'), (19, '0.139*\"class\" + 0.096*\"sit\" + 0.088*\"move\" + 0.072*\"share\" + 0.070*\"total\" + 0.065*\"brother\" + 0.051*\"clean\" + 0.043*\"weight\" + 0.033*\"lesson\" + 0.029*\"player\"')]\n"
          ],
          "name": "stdout"
        }
      ]
    },
    {
      "cell_type": "code",
      "metadata": {
        "id": "8wobZEXRiKeN",
        "outputId": "2688b9dc-cdd8-422d-8b69-6aa3a3446989",
        "colab": {
          "base_uri": "https://localhost:8080/",
          "height": 51
        }
      },
      "source": [
        "print('\\nPerplexity: ', lda_model_pkl.log_perplexity(corpus)) "
      ],
      "execution_count": 13,
      "outputs": [
        {
          "output_type": "stream",
          "text": [
            "\n",
            "Perplexity:  -11.496303696483185\n"
          ],
          "name": "stdout"
        }
      ]
    },
    {
      "cell_type": "code",
      "metadata": {
        "id": "rcSsbwDNl7kv"
      },
      "source": [
        "coherence_model_lda = CoherenceModel(model=lda_model_pkl, texts=data_lemmatized, dictionary=id2word, coherence='c_v')\n",
        "coherence_lda = coherence_model_lda.get_coherence()"
      ],
      "execution_count": 14,
      "outputs": []
    },
    {
      "cell_type": "code",
      "metadata": {
        "id": "ElvjPV2ImGW8",
        "outputId": "f95c48d6-a082-4fee-b4f6-80e9c0fcf5fa",
        "colab": {
          "base_uri": "https://localhost:8080/",
          "height": 34
        }
      },
      "source": [
        "print(coherence_lda)"
      ],
      "execution_count": null,
      "outputs": [
        {
          "output_type": "stream",
          "text": [
            "0.35765087513967575\n"
          ],
          "name": "stdout"
        }
      ]
    },
    {
      "cell_type": "code",
      "metadata": {
        "id": "zcVT-bH6o7Xh",
        "outputId": "fcd58842-1d5a-475b-ae72-9c29b04ce089",
        "colab": {
          "base_uri": "https://localhost:8080/",
          "height": 544
        }
      },
      "source": [
        "pip install pyLDavis"
      ],
      "execution_count": null,
      "outputs": [
        {
          "output_type": "stream",
          "text": [
            "Collecting pyLDavis\n",
            "\u001b[?25l  Downloading https://files.pythonhosted.org/packages/a5/3a/af82e070a8a96e13217c8f362f9a73e82d61ac8fff3a2561946a97f96266/pyLDAvis-2.1.2.tar.gz (1.6MB)\n",
            "\u001b[K     |████████████████████████████████| 1.6MB 2.8MB/s \n",
            "\u001b[?25hRequirement already satisfied: wheel>=0.23.0 in /usr/local/lib/python3.6/dist-packages (from pyLDavis) (0.35.1)\n",
            "Requirement already satisfied: numpy>=1.9.2 in /usr/local/lib/python3.6/dist-packages (from pyLDavis) (1.18.5)\n",
            "Requirement already satisfied: scipy>=0.18.0 in /usr/local/lib/python3.6/dist-packages (from pyLDavis) (1.4.1)\n",
            "Requirement already satisfied: pandas>=0.17.0 in /usr/local/lib/python3.6/dist-packages (from pyLDavis) (1.1.2)\n",
            "Requirement already satisfied: joblib>=0.8.4 in /usr/local/lib/python3.6/dist-packages (from pyLDavis) (0.16.0)\n",
            "Requirement already satisfied: jinja2>=2.7.2 in /usr/local/lib/python3.6/dist-packages (from pyLDavis) (2.11.2)\n",
            "Requirement already satisfied: numexpr in /usr/local/lib/python3.6/dist-packages (from pyLDavis) (2.7.1)\n",
            "Requirement already satisfied: pytest in /usr/local/lib/python3.6/dist-packages (from pyLDavis) (3.6.4)\n",
            "Requirement already satisfied: future in /usr/local/lib/python3.6/dist-packages (from pyLDavis) (0.16.0)\n",
            "Collecting funcy\n",
            "  Downloading https://files.pythonhosted.org/packages/66/89/479de0afbbfb98d1c4b887936808764627300208bb771fcd823403645a36/funcy-1.15-py2.py3-none-any.whl\n",
            "Requirement already satisfied: pytz>=2017.2 in /usr/local/lib/python3.6/dist-packages (from pandas>=0.17.0->pyLDavis) (2018.9)\n",
            "Requirement already satisfied: python-dateutil>=2.7.3 in /usr/local/lib/python3.6/dist-packages (from pandas>=0.17.0->pyLDavis) (2.8.1)\n",
            "Requirement already satisfied: MarkupSafe>=0.23 in /usr/local/lib/python3.6/dist-packages (from jinja2>=2.7.2->pyLDavis) (1.1.1)\n",
            "Requirement already satisfied: attrs>=17.4.0 in /usr/local/lib/python3.6/dist-packages (from pytest->pyLDavis) (20.2.0)\n",
            "Requirement already satisfied: setuptools in /usr/local/lib/python3.6/dist-packages (from pytest->pyLDavis) (50.3.0)\n",
            "Requirement already satisfied: py>=1.5.0 in /usr/local/lib/python3.6/dist-packages (from pytest->pyLDavis) (1.9.0)\n",
            "Requirement already satisfied: pluggy<0.8,>=0.5 in /usr/local/lib/python3.6/dist-packages (from pytest->pyLDavis) (0.7.1)\n",
            "Requirement already satisfied: six>=1.10.0 in /usr/local/lib/python3.6/dist-packages (from pytest->pyLDavis) (1.15.0)\n",
            "Requirement already satisfied: atomicwrites>=1.0 in /usr/local/lib/python3.6/dist-packages (from pytest->pyLDavis) (1.4.0)\n",
            "Requirement already satisfied: more-itertools>=4.0.0 in /usr/local/lib/python3.6/dist-packages (from pytest->pyLDavis) (8.5.0)\n",
            "Building wheels for collected packages: pyLDavis\n",
            "  Building wheel for pyLDavis (setup.py) ... \u001b[?25l\u001b[?25hdone\n",
            "  Created wheel for pyLDavis: filename=pyLDAvis-2.1.2-py2.py3-none-any.whl size=97712 sha256=970e6e77cf158a6e7cf850a70c8cac684c620a7a1b5efd616aabacc863fa260c\n",
            "  Stored in directory: /root/.cache/pip/wheels/98/71/24/513a99e58bb6b8465bae4d2d5e9dba8f0bef8179e3051ac414\n",
            "Successfully built pyLDavis\n",
            "Installing collected packages: funcy, pyLDavis\n",
            "Successfully installed funcy-1.15 pyLDavis-2.1.2\n"
          ],
          "name": "stdout"
        }
      ]
    },
    {
      "cell_type": "code",
      "metadata": {
        "id": "Ym565t2Qo41n"
      },
      "source": [
        "import pyLDAvis\n",
        "import pyLDAvis.gensim  \n",
        "import matplotlib.pyplot as plt\n",
        "%matplotlib inline"
      ],
      "execution_count": 15,
      "outputs": []
    },
    {
      "cell_type": "code",
      "metadata": {
        "id": "N7MHLcmoo9pA",
        "outputId": "c296a1e2-b9ab-49a2-bed0-e3f6cbaf9316",
        "colab": {
          "base_uri": "https://localhost:8080/",
          "height": 861
        }
      },
      "source": [
        "pyLDAvis.enable_notebook()\n",
        "vis = pyLDAvis.gensim.prepare(lda_model_pkl, corpus, id2word)\n",
        "vis"
      ],
      "execution_count": 16,
      "outputs": [
        {
          "output_type": "execute_result",
          "data": {
            "text/html": [
              "\n",
              "<link rel=\"stylesheet\" type=\"text/css\" href=\"https://cdn.rawgit.com/bmabey/pyLDAvis/files/ldavis.v1.0.0.css\">\n",
              "\n",
              "\n",
              "<div id=\"ldavis_el8091400173720236881410504946\"></div>\n",
              "<script type=\"text/javascript\">\n",
              "\n",
              "var ldavis_el8091400173720236881410504946_data = {\"mdsDat\": {\"x\": [0.33160458658759834, 0.2815013069463511, 0.10502127826122072, 0.06928868202606807, 0.01806603837948627, -0.011750394970421392, -0.04169261038969138, 0.029277046379686218, -0.05847712923302063, -0.054396190189335204, -0.05965104642081121, -0.059847338524445834, -0.033857585216053546, -0.06574499036588247, -0.04675232399557679, -0.08034455871680841, -0.08320942517581603, -0.08378109028874729, -0.08518753084583462, -0.07006672424796563], \"y\": [-0.04838330990510428, 0.022207682352074737, 0.1394052648182755, 0.043698900108913453, 0.013247805502287695, 0.14553686374145083, 0.07246801454730285, -0.33857281693183194, 0.04165519534829501, 0.039885664280987436, 0.03966423519589383, 0.029706509323130834, 0.01734594209534824, 0.0224673330235251, 0.023177423579676015, 0.0053486518787965905, 0.0009276603432395873, 7.517065346933997e-05, -0.002056225512124501, -0.2678059644436067], \"topics\": [1, 2, 3, 4, 5, 6, 7, 8, 9, 10, 11, 12, 13, 14, 15, 16, 17, 18, 19, 20], \"cluster\": [1, 1, 1, 1, 1, 1, 1, 1, 1, 1, 1, 1, 1, 1, 1, 1, 1, 1, 1, 1], \"Freq\": [61.948945734796034, 5.498194638431404, 4.414738492415786, 3.2145181364232194, 2.791930047563555, 2.416316843677346, 2.373912196638518, 1.912678202409085, 1.6941595709768857, 1.6376294521426902, 1.5707363584513565, 1.4875314832258326, 1.4561022334712868, 1.3819880486980507, 1.3688200535544262, 1.0914212834075874, 1.0516223431919391, 1.0008014300748067, 0.9354267373021262, 0.7525267131480596]}, \"tinfo\": {\"Term\": [\"love\", \"write\", \"school\", \"night\", \"read\", \"home\", \"stuff\", \"ask\", \"blog\", \"girl\", \"hour\", \"away\", \"hate\", \"think\", \"sleep\", \"know\", \"music\", \"woman\", \"class\", \"go\", \"drive\", \"tomorrow\", \"question\", \"stay\", \"child\", \"time\", \"post\", \"wear\", \"turn\", \"moment\", \"think\", \"know\", \"time\", \"want\", \"good\", \"thing\", \"come\", \"work\", \"say\", \"today\", \"peopl\", \"tell\", \"friend\", \"start\", \"take\", \"need\", \"talk\", \"year\", \"week\", \"right\", \"mean\", \"person\", \"play\", \"long\", \"get\", \"happen\", \"make\", \"actual\", \"great\", \"give\", \"go\", \"feel\", \"look\", \"life\", \"live\", \"walk\", \"hand\", \"heart\", \"fall\", \"face\", \"stand\", \"hold\", \"hurt\", \"dream\", \"pain\", \"eye\", \"step\", \"fear\", \"foot\", \"light\", \"insid\", \"door\", \"apart\", \"breath\", \"dark\", \"touch\", \"tear\", \"remain\", \"afraid\", \"rise\", \"hide\", \"grind\", \"comfort\", \"arm\", \"tree\", \"open\", \"lie\", \"away\", \"close\", \"begin\", \"turn\", \"dead\", \"room\", \"small\", \"buy\", \"build\", \"visit\", \"train\", \"event\", \"offer\", \"sell\", \"store\", \"trip\", \"larg\", \"color\", \"window\", \"area\", \"join\", \"attend\", \"cloth\", \"size\", \"town\", \"road\", \"local\", \"slow\", \"driver\", \"style\", \"passion\", \"price\", \"cheap\", \"speed\", \"design\", \"collect\", \"pull\", \"reach\", \"cover\", \"night\", \"home\", \"hour\", \"sleep\", \"tomorrow\", \"tonight\", \"wake\", \"drink\", \"even\", \"pack\", \"boy\", \"pool\", \"swim\", \"morn\", \"network\", \"pregnant\", \"wave\", \"asleep\", \"midnight\", \"phase\", \"humid\", \"input\", \"flush\", \"skate\", \"soooooo\", \"farmer\", \"bucket\", \"caller\", \"stay\", \"half\", \"hous\", \"watch\", \"write\", \"read\", \"blog\", \"post\", \"book\", \"site\", \"list\", \"page\", \"email\", \"space\", \"ball\", \"publish\", \"sport\", \"holi\", \"murder\", \"field\", \"file\", \"pop\", \"recommend\", \"complex\", \"domain\", \"activ\", \"html\", \"format\", \"expert\", \"code\", \"guarante\", \"select\", \"hectic\", \"retain\", \"send\", \"love\", \"girl\", \"listen\", \"song\", \"phone\", \"smile\", \"cold\", \"stick\", \"bodi\", \"warm\", \"load\", \"weather\", \"grab\", \"leg\", \"crush\", \"lift\", \"hero\", \"disturb\", \"shadow\", \"mode\", \"bleed\", \"dose\", \"http\", \"deep\", \"reach\", \"wanna\", \"will\", \"kiss\", \"stupid\", \"would\", \"soul\", \"shoulder\", \"fight\", \"stuff\", \"comment\", \"test\", \"current\", \"team\", \"huge\", \"fail\", \"bear\", \"perform\", \"urllink\", \"member\", \"blogger\", \"account\", \"ticket\", \"spot\", \"somewhat\", \"quick\", \"market\", \"topic\", \"limit\", \"correct\", \"score\", \"exam\", \"moral\", \"concert\", \"staff\", \"theme\", \"speech\", \"threaten\", \"cancel\", \"creat\", \"allow\", \"level\", \"develop\", \"human\", \"effect\", \"provid\", \"view\", \"similar\", \"term\", \"effort\", \"low\", \"seek\", \"reflect\", \"success\", \"critic\", \"wise\", \"click\", \"increa\", \"benefit\", \"large\", \"gather\", \"strike\", \"threat\", \"career\", \"pride\", \"haunt\", \"owner\", \"quarter\", \"dog\", \"major\", \"origin\", \"high\", \"accept\", \"class\", \"sit\", \"move\", \"share\", \"total\", \"brother\", \"clean\", \"weight\", \"lesson\", \"player\", \"card\", \"fault\", \"roll\", \"park\", \"consist\", \"british\", \"pour\", \"cook\", \"twin\", \"unknown\", \"cross\", \"info\", \"beach\", \"titl\", \"inch\", \"layer\", \"pile\", \"cours\", \"offic\", \"dive\", \"hate\", \"child\", \"form\", \"exist\", \"student\", \"public\", \"nation\", \"program\", \"state\", \"folk\", \"complain\", \"screen\", \"destroy\", \"protect\", \"match\", \"dumb\", \"colour\", \"terror\", \"pure\", \"modern\", \"improv\", \"model\", \"useless\", \"tape\", \"childhood\", \"famili\", \"growth\", \"choke\", \"revel\", \"strengthen\", \"ask\", \"woman\", \"question\", \"moment\", \"answer\", \"young\", \"mother\", \"wife\", \"husband\", \"repeat\", \"degre\", \"commit\", \"male\", \"fellow\", \"drown\", \"ideal\", \"weigh\", \"myth\", \"convict\", \"eld\", \"happy\", \"doctor\", \"ponytail\", \"affect\", \"abort\", \"gossip\", \"breakdown\", \"discuss\", \"repli\", \"mom\", \"would\", \"fight\", \"warn\", \"appear\", \"stupid\", \"forward\", \"shall\", \"worth\", \"hell\", \"inform\", \"probabl\", \"posit\", \"self\", \"result\", \"power\", \"truth\", \"websit\", \"news\", \"direct\", \"opinion\", \"brain\", \"enter\", \"cousin\", \"product\", \"depend\", \"honest\", \"sexual\", \"earth\", \"standard\", \"welcom\", \"quiz\", \"reaction\", \"employ\", \"prevent\", \"cell\", \"fire\", \"frighten\", \"cancer\", \"obtain\", \"tempt\", \"govern\", \"report\", \"process\", \"suffer\", \"mail\", \"refer\", \"concern\", \"action\", \"lack\", \"base\", \"equal\", \"text\", \"risk\", \"afford\", \"soft\", \"path\", \"terrorist\", \"rich\", \"minor\", \"resist\", \"rat\", \"defend\", \"calm\", \"storm\", \"rate\", \"credit\", \"milk\", \"gold\", \"rough\", \"journey\", \"case\", \"music\", \"wear\", \"black\", \"birthday\", \"rain\", \"record\", \"shirt\", \"shoe\", \"ahead\", \"season\", \"star\", \"avail\", \"pair\", \"predict\", \"option\", \"cash\", \"dust\", \"convent\", \"ignor\", \"snack\", \"shave\", \"profit\", \"trend\", \"lawn\", \"backward\", \"delay\", \"strict\", \"trail\", \"consol\", \"bride\", \"fashion\", \"strong\", \"support\", \"burn\", \"push\", \"clear\", \"leader\", \"project\", \"race\", \"stage\", \"american\", \"weak\", \"soldier\", \"physic\", \"mental\", \"stomach\", \"heal\", \"scale\", \"argument\", \"victim\", \"bird\", \"talent\", \"troop\", \"last\", \"contract\", \"construct\", \"stretch\", \"grasp\", \"region\", \"back\", \"sever\", \"tri\", \"suggest\", \"blood\", \"smell\", \"ride\", \"wind\", \"hit\", \"round\", \"intern\", \"bless\", \"bright\", \"regret\", \"anger\", \"someday\", \"loss\", \"bare\", \"host\", \"fake\", \"bathroom\", \"yellow\", \"error\", \"succeed\", \"adjust\", \"trick\", \"crawl\", \"counter\", \"dirt\", \"noon\", \"father\", \"duck\", \"water\", \"run\", \"link\", \"add\", \"trust\", \"chat\", \"video\", \"photo\", \"cream\", \"danger\", \"heat\", \"section\", \"swing\", \"disea\", \"plea\", \"abandon\", \"meat\", \"loser\", \"edit\", \"pocket\", \"german\", \"politician\", \"fuel\", \"extent\", \"flame\", \"neighborhood\", \"menu\", \"geek\", \"rout\", \"tattoo\", \"food\", \"eat\", \"pay\", \"vote\", \"put\", \"dear\", \"cost\", \"coffe\", \"fish\", \"meal\", \"popular\", \"contain\", \"legal\", \"suspect\", \"truck\", \"habit\", \"arrest\", \"alcohol\", \"jail\", \"poison\", \"servic\", \"trash\", \"tax\", \"plate\", \"prosper\", \"stave\", \"charg\", \"workout\", \"voter\", \"campaign\", \"dinner\", \"fight\", \"stupid\", \"teach\", \"death\", \"name\", \"teacher\", \"rule\", \"claim\", \"tast\", \"fill\", \"address\", \"medium\", \"spell\", \"proceed\", \"prison\", \"ghost\", \"tune\", \"dismiss\", \"cage\", \"steel\", \"tourist\", \"wit\", \"sock\", \"promis\", \"cigar\", \"flavour\", \"strength\", \"resurrect\", \"iraqi\", \"mild\", \"depart\", \"global\", \"evil\", \"author\", \"shall\", \"attack\", \"appear\", \"fight\", \"inform\", \"hell\", \"stupid\", \"school\", \"drive\", \"white\", \"hole\", \"chicken\", \"kitchen\", \"chines\", \"salad\", \"sidewalk\", \"taxi\", \"brick\", \"patron\", \"homework\", \"licen\", \"soccer\", \"bake\", \"trailer\", \"rear\", \"frown\", \"choir\", \"snow\", \"caucasian\", \"mortar\", \"driveway\", \"salesman\", \"traction\", \"motorist\", \"trainer\", \"veggi\", \"lame\", \"high\", \"mile\", \"few\", \"stupid\", \"green\", \"dinner\", \"afternoon\", \"skip\", \"senior\", \"suppos\", \"will\", \"scream\", \"camp\", \"fight\", \"depress\", \"wanna\", \"hell\", \"alot\", \"would\", \"kick\", \"piss\", \"forward\", \"serious\", \"shall\", \"worth\", \"appear\"], \"Freq\": [254700.0, 134517.0, 95731.0, 135413.0, 123889.0, 128528.0, 88436.0, 76995.0, 88480.0, 75768.0, 81824.0, 96029.0, 65294.0, 546917.0, 75377.0, 540168.0, 58137.0, 59882.0, 60654.0, 518197.0, 45527.0, 64389.0, 51477.0, 61320.0, 50532.0, 433723.0, 56800.0, 46837.0, 85996.0, 46701.0, 546916.3943774811, 540166.8271014662, 433722.154950772, 371192.0216955172, 342512.5872008625, 328014.4006634553, 294361.13466617104, 261919.45139195406, 260705.75851892514, 250230.4688619805, 207424.17478233002, 199328.5993145625, 189799.13236720164, 177301.5463159974, 169027.4848539361, 161718.89130039758, 158023.91469602202, 147619.9986324995, 140187.57494071688, 138560.366976254, 134581.2036967578, 132862.23392938392, 126305.40359000977, 120727.22959641888, 117827.31143094959, 117588.93878633494, 112361.50292281806, 110156.99062130423, 108558.70062744296, 105502.66851533696, 517698.18807289255, 350666.80106122704, 243704.02765409672, 141598.7748781167, 125952.20609501563, 64223.87410690356, 55127.140080497586, 55108.358974862036, 53754.78464446067, 52198.27941254894, 51513.98244288977, 50063.542977495636, 39979.09688917849, 39231.9095935976, 35499.60536042069, 35025.34287618713, 29092.209598012505, 25443.1621116298, 24915.468436981406, 24000.324773544882, 23317.650048262945, 22047.20980715409, 21883.443577824026, 20389.04260870489, 18896.742643888945, 18389.9469059537, 18284.093481992797, 17533.86612682694, 16417.035282569257, 16072.523332760817, 15562.980330567227, 15320.756823783395, 15021.138838492396, 13473.381856136883, 11207.835811670726, 47015.18488714509, 27590.70768277386, 93760.61823121246, 43241.96052872602, 36025.194074072286, 38067.55226467862, 18046.14188540233, 47030.12232872285, 41282.45384854017, 34574.339969204346, 31769.380983673553, 28039.15658540526, 27451.94521431753, 24698.936542260737, 22966.511772324346, 22798.982177772545, 20809.531706963255, 19436.525248572754, 18702.16368264974, 18491.001162140754, 17650.501301861663, 16672.17892044835, 16369.813185306944, 16137.220736889854, 16052.772884489388, 15783.154612320024, 15527.738591740675, 15460.277102437954, 14748.842890696125, 14603.328851159227, 13749.019628361772, 13234.354006503958, 13011.290441824618, 12791.097826668842, 10557.36778131112, 10493.547134672366, 10073.469292064205, 13834.71498298974, 22551.171896580232, 19735.792349149073, 12966.44813764688, 135412.584881442, 128527.3014643191, 81823.09867845182, 75376.28976246416, 64388.49999254891, 53421.523573320635, 50464.16789870062, 50117.44733298865, 22511.61893559088, 14546.604396915487, 12109.999650951862, 9575.74750337868, 8559.326998236744, 8346.044130227103, 5478.169593492198, 5380.79323118193, 5282.138396159784, 4071.889707278822, 3889.8426727125475, 3406.567264583072, 2502.003483064043, 1614.771565926726, 1440.4082834447008, 1380.1082080988742, 1287.377104675536, 1108.0692827147247, 1080.5390345705237, 601.6901357939305, 58338.60673253403, 5436.479662466633, 2671.2979836573295, 2293.9528687253587, 134516.33809057667, 123888.02850192385, 88478.80531418925, 56798.924476693835, 49607.32553916609, 38596.73237433892, 31586.526728495373, 26644.175675793027, 24791.243415550558, 12309.602411402711, 11767.664770889653, 10799.331541006391, 9424.770107860582, 9318.443453152535, 9093.386863069823, 7988.925618699733, 7189.362730500428, 5690.584986428072, 5530.596730023884, 5242.825549777919, 4819.338235045663, 4223.540419795557, 3858.5702027007433, 3602.0617190809967, 3589.362755454646, 2738.6589376763177, 2735.9278049247814, 2454.949128638912, 2210.2798510021157, 1832.5252805247433, 5586.094044047625, 254698.91654169475, 75767.45460104987, 49534.282249531, 33942.357288618296, 28953.96023041152, 28356.884547826794, 19283.686510877065, 18228.666475792368, 13897.346420910013, 13043.38570051633, 11381.847938807705, 8814.621082225463, 8590.33630991317, 8312.144363640075, 8088.424143254986, 7742.086606089051, 7246.5810025226565, 6481.4560635695825, 3369.808714623409, 2891.4747056354813, 2732.619994668842, 1434.0108731696128, 926.4529698810857, 2332.3678933603064, 2745.0389778231597, 0.06309611018140958, 0.06309357628046688, 0.0630933419056851, 0.06310372515073479, 0.06309699903671409, 0.06309478353170136, 46.67325012989165, 0.06310144331323664, 88434.8148460686, 42890.88925482831, 40543.369754618056, 40035.265334826145, 29748.70197068962, 22719.220323188954, 22043.47433630609, 21593.440164502124, 19231.035237501204, 19042.64404602623, 18335.096546344917, 14064.329793167939, 12723.41250859512, 12047.119849573042, 11495.993471325326, 10473.831599925528, 10060.101013766494, 9937.827539728803, 9850.475026383949, 9819.879608992638, 9511.953429227346, 8727.455562000147, 7985.688094754507, 7850.9550515439105, 6903.895112519282, 6416.1752995684365, 6411.381098797564, 6052.370115973213, 5598.461405382573, 5033.207538487205, 32444.102500471996, 31982.524863290208, 24476.61010775682, 24144.534372662023, 23642.43462791716, 18589.287439513362, 15747.885699296277, 13907.820473578051, 13385.66705721445, 11321.95852132004, 10963.343375107963, 10266.642081560642, 10213.233833678087, 10205.36982865509, 10139.828806628535, 8995.636263426617, 8438.371028136533, 8081.302989563751, 8033.886801517855, 6999.2594853583405, 6635.791045964625, 6539.191333388084, 6159.834759225327, 6006.37884090463, 5387.141208504495, 5355.530110600501, 5124.099875497229, 5076.618077607792, 4558.003004694445, 4329.291219402215, 12535.050576441648, 8882.473506431745, 21576.695398543652, 11385.05959126303, 60653.249902752825, 41885.97657209772, 38560.12453350683, 31463.713593637804, 30479.14557168746, 28294.065714309047, 22403.61876769772, 18967.936797204206, 14515.003118021337, 12848.031057927456, 12062.288796972722, 10814.304662445757, 10609.529319560917, 9465.352384450352, 8527.165904919217, 7910.161751630135, 6760.729758909627, 6528.7627135515595, 5783.709253000719, 5109.413145750075, 4591.463028641302, 4520.177365473894, 4243.334867210377, 4045.1885939824388, 3705.9287232609854, 3618.6941979868398, 3547.281334059095, 3449.9760035392605, 3257.5982644729756, 2976.3008948522397, 65293.07896221296, 50531.180706420426, 22118.82178750942, 22047.910923913394, 21841.711912517985, 19353.48195257201, 18205.927399258107, 18110.75366904299, 17901.686985114728, 16198.206220244978, 14428.23159314351, 11929.936495439064, 11312.807866722398, 10262.588404483306, 9362.111730936607, 9271.361287395463, 8100.741218952901, 7603.089255919529, 5933.271431098829, 5778.437148749125, 5746.684942837036, 4672.790290432163, 3726.2910082198036, 3346.554204250804, 3020.5367634592826, 2998.1296345176206, 2391.841200807007, 2215.969004942116, 2174.8762396259176, 2168.0993008998116, 76994.12172352248, 59881.30729977106, 51476.16596158731, 46700.67010642389, 39713.06872170258, 30575.808753705518, 20486.399394162752, 14794.98133401016, 14300.576769996651, 6366.071603531611, 6011.248790242144, 5978.337317394656, 5767.617305828645, 5094.460731832132, 3781.567340526766, 3645.6098909581037, 3217.832709999666, 2518.845407459901, 2468.2689046489877, 1400.4927577665749, 0.06084842157670935, 0.06085097426268419, 0.06084707049291636, 0.060851060502075234, 0.060848668796297, 0.06084719122806381, 0.06084711648725824, 0.06085369942744112, 0.06085023260392123, 0.06084735795755316, 0.060854722801548154, 0.06086174843727171, 0.06085112374429533, 0.060854912528208446, 0.06085858632626683, 0.060853647683806494, 0.060854642311449846, 0.060852520822430214, 0.06085283128423796, 0.060852486326673796, 37151.914979426605, 25780.185213555167, 24120.033754703833, 23989.615059554613, 23908.60543011315, 20507.933743543384, 20482.146598783813, 15503.60338550169, 15412.695386164418, 15021.29657007659, 14750.65215749205, 14566.448275207455, 14227.679955376027, 14206.079100292653, 11971.670179352499, 8418.557887161636, 8321.48963339461, 7066.010940166942, 6747.932140281403, 6734.97291180714, 6519.825740386821, 5784.213430545069, 5554.504165561375, 5100.994327270435, 4798.944891929222, 4740.6897379703105, 3974.6147844236107, 3661.158673146587, 2136.7379870450095, 1829.693871364337, 27155.82144475123, 17312.99741193157, 16661.8558337736, 15853.498598017077, 15515.210953140657, 15465.839877188788, 15179.489872107335, 13485.837165585166, 12977.766502321589, 12166.04073884285, 9057.656686376013, 8023.855388712891, 7368.821351727007, 6963.1715353039535, 6928.813530542079, 6521.6778455032745, 6264.548526048654, 6235.522044218333, 5948.582441999271, 5891.515865966952, 5722.1837776180955, 5670.783691137572, 5505.88894996655, 5222.573204561881, 5169.7179867571385, 5082.666833545884, 5038.217217113513, 5033.574488942246, 4832.213444240031, 4536.077803253808, 10733.8226683145, 58136.65645265148, 46836.187747072036, 34910.76620204762, 25985.16973655826, 24524.37923870543, 17860.64889413141, 15513.919117368978, 15292.286776129764, 14500.741374239371, 10554.55419361033, 10086.631207555158, 9744.504621503394, 7886.182435870136, 7287.007737455623, 7273.636652832132, 5786.995744983504, 4366.529009225867, 3548.200993988625, 3451.7414842950243, 3415.935527060468, 2668.0921298857793, 2437.9066902970753, 2229.6744407201927, 2161.1187078632174, 2131.401245203834, 1868.8268775558759, 1547.2818629650915, 1417.5421632245766, 1405.6179496984041, 1190.8433697043897, 2270.6466344493315, 26906.86220749097, 23714.982091358663, 21038.669733269613, 16255.267840685592, 15230.41957611166, 15126.662195238028, 14555.26175246537, 13522.447709653756, 12920.779936380297, 12147.535998213269, 10845.690765260757, 10548.628310150738, 9929.440421658555, 8704.836312887088, 7914.264672776164, 6161.0336578959395, 6128.997175987693, 6064.431030023094, 6025.211556988403, 5721.197269361971, 5667.8777778160475, 5215.25050341032, 5159.5199356237, 5014.31194143817, 4954.212672932162, 4572.070058618576, 4485.671244616883, 4307.283124433994, 3994.611224491283, 3785.5397539795977, 23176.941325522526, 22073.852733067877, 18665.173093382957, 12958.216284213999, 12496.23138444395, 11407.720280280757, 10654.273582283353, 10421.564716930678, 9996.991181508616, 9890.68861818325, 9041.996046614879, 8952.803181831596, 8662.372384841523, 8456.603073910797, 7802.946195008547, 7674.57423597527, 6831.845134742795, 6506.772905626783, 6281.359591436639, 6047.5961620962125, 4723.2842361018575, 4717.271545798309, 4546.570938202066, 4505.952945323302, 4413.043972982388, 4242.178426132848, 3835.1334825945764, 3822.1619266518956, 3341.515590317072, 2861.9376938119435, 29705.634488840813, 28792.407734533786, 28518.42558160135, 18492.107189420352, 14594.666010064304, 11964.756805793448, 11883.152249861034, 11030.099938112457, 8299.417840555929, 7571.080554830606, 7428.280402053348, 6554.505317992825, 6169.452455500211, 5782.099977771733, 5651.231790840935, 5042.25402088685, 4332.6204069526475, 4314.638202863872, 4314.080200571009, 4008.1488847121473, 3925.8082299141947, 3837.5558284014046, 3378.6193756986304, 3048.5077923081276, 2972.1444721979524, 2930.384105303947, 2913.364783110223, 2641.129792872347, 2310.9929833384053, 2245.952669972083, 34607.42499835618, 28780.19330552998, 25848.504944536235, 19879.898557682816, 19605.54587884694, 13932.002581135503, 11813.916355954607, 11062.648070644358, 10536.260635999644, 9256.008312462, 8104.804498192952, 7997.9260284633265, 6761.996018779407, 6641.096465872733, 6416.488815547166, 5922.23435023814, 4057.280483637905, 3498.147419492654, 3141.63898112946, 2821.9338455059383, 2631.4603930169137, 2581.8483636176256, 2417.3246221547893, 2232.606142029305, 1497.392337857025, 1098.0238556495472, 988.9991547781704, 0.06521913259019715, 0.065215073779436, 0.06521606283982004, 0.06522115466920451, 0.06522566771510499, 0.06522346980314046, 27199.198839224257, 27019.44021501504, 24044.9051233975, 22711.22530780819, 19035.21906572843, 17325.192854923658, 15169.433901047882, 14751.587278608185, 11382.565317859728, 10944.103663759537, 9665.256349875695, 7088.9684319494, 6592.774726344922, 6337.564080997264, 6201.512770517564, 2833.510431676382, 2358.04686909649, 2115.9759727907085, 1590.6520238293724, 1476.2749715095722, 1274.5184085503972, 291.7984726704185, 0.06315930995301178, 0.06315719398362689, 0.0631606247301053, 0.06315665985543265, 0.06316152863935709, 0.06315665985543265, 0.06315813897966285, 0.06315826224001538, 0.06316117940169162, 0.0631614190745993, 0.06316504155940383, 0.06316276124288225, 0.06316427460609927, 0.06316832850213762, 0.06316260374354293, 0.06316247363539305, 0.06316505525499855, 95730.06695119702, 45526.04312690766, 18022.880210375784, 7505.420449902702, 4998.445853638105, 4636.722941296866, 3916.561043086217, 2718.7468768226804, 1602.0306394733848, 1367.8632331506012, 1022.8063559628196, 618.179752973728, 0.06918505541997844, 0.06918266456754468, 0.06918338623037606, 0.06918173907628, 0.0691817831472926, 0.06918151321234041, 0.06918099537794231, 0.06918114962648643, 0.06918268660305099, 0.06918068137197751, 0.06918071993411354, 0.06918112208210356, 0.06918076951400272, 0.06918044449028476, 0.0691804830524208, 0.06918095130692971, 0.06918068137197751, 0.06918222385741865, 2297.8230305546886, 0.06918409136657773, 0.06918117166199274, 0.06919498792444399, 0.06918350742566073, 0.06918837176367686, 0.0691878484204022, 0.06918252133675372, 0.06918307773328784, 0.06918649323676462, 0.0691847248873839, 0.06918589276921791, 0.0691839646624165, 0.06919186990030228, 0.06918453758558034, 0.06918493973357034, 0.06918678520722313, 0.06918576606505666, 0.06918664748530874, 0.06918536942594324, 0.06918508847323789, 0.06918626737282503, 0.06918541349695584, 0.06918669155632134, 0.06918538044369639, 0.06918588175146476], \"Total\": [254700.0, 134517.0, 95731.0, 135413.0, 123889.0, 128528.0, 88436.0, 76995.0, 88480.0, 75768.0, 81824.0, 96029.0, 65294.0, 546917.0, 75377.0, 540168.0, 58137.0, 59882.0, 60654.0, 518197.0, 45527.0, 64389.0, 51477.0, 61320.0, 50532.0, 433723.0, 56800.0, 46837.0, 85996.0, 46701.0, 546917.5956268723, 540168.0283508574, 433723.3562001632, 371193.22294490837, 342513.78845025366, 328015.6019128465, 294362.33591556223, 261920.6526413453, 260706.9597683164, 250231.67011137176, 207425.37603172127, 199329.80056395376, 189800.3336165929, 177302.74756538865, 169028.68610332735, 161720.09254978882, 158025.11594541327, 147621.19988189076, 140188.77619010812, 138561.56822564526, 134582.40494614904, 132863.43517877517, 126306.60483940091, 120728.43084581003, 117828.51268034073, 117590.14003572609, 112362.70417220921, 110158.19187069537, 108559.9018768341, 105503.86976472811, 518197.60018840205, 350753.4528738401, 243773.7345193514, 141685.47246575935, 126022.45034932795, 64225.07640233649, 55128.342375930515, 55109.561270294966, 53755.9869398936, 52199.48170798187, 51515.1847383227, 50064.745272928565, 39980.29918461142, 39233.11188903053, 35500.80765585362, 35026.54517162006, 29093.411893445442, 25444.364407062738, 24916.670732414343, 24001.52706897782, 23318.852343695882, 22048.412102587026, 21884.645873256963, 20390.244904137828, 18897.944939321882, 18391.149203292745, 18285.295777425734, 17535.068422259876, 16418.237578002194, 16073.725628193752, 15564.182626000162, 15321.95911921633, 15022.34113392533, 13474.584151569818, 11209.03810710366, 47028.131909642194, 27709.10571895633, 96029.59675632323, 57213.33594271619, 62813.96957025444, 85996.52150955472, 23162.183359562256, 47031.32049350367, 41283.65201332099, 34575.53813398517, 31770.579148454377, 28040.354750186085, 27453.143379098354, 24700.13470704156, 22967.70993710517, 22800.18034255337, 20810.72987174408, 19437.72341335358, 18703.361847430566, 18492.199326921578, 17651.699466642487, 16673.377085229175, 16371.011350087769, 16138.418901670679, 16053.971049270212, 15784.352777100848, 15528.9367565215, 15461.475267218779, 14750.04105547695, 14604.527015940052, 13750.217793142596, 13235.552171284782, 13012.488606605442, 12792.295991449666, 10558.565946091945, 10494.74529945319, 10074.667456845029, 13837.372133048142, 25925.036182004395, 22481.9664066408, 17578.502089389895, 135413.78335524575, 128528.49993812275, 81824.29715225547, 75377.48823626782, 64389.698466352595, 53422.72204712432, 50465.36637250431, 50118.64580679234, 22512.817409394564, 14547.802870719175, 12111.19812475555, 9576.945977182368, 8560.525472040432, 8347.242604030791, 5479.368067295882, 5381.991704991363, 5283.3368699634675, 4073.088181082508, 3891.0411465162338, 3407.765738392203, 2503.201956867729, 1615.970039735856, 1441.6067572534173, 1381.3066819025594, 1288.5755784792211, 1109.267756580671, 1081.7375083872369, 602.888609597616, 61320.608259543194, 33607.09492759332, 29530.73553408359, 94906.35422485646, 134517.54098885294, 123889.23140020003, 88480.00821246543, 56800.127374970056, 49608.52843744231, 38597.93527261514, 31587.72962677159, 26645.378574069244, 24792.446313826775, 12310.805309678932, 11768.867669165873, 10800.534439282612, 9425.973006136803, 9319.646351428755, 9094.589761346044, 7990.128516975948, 7190.565628776643, 5691.787884704287, 5531.799628300099, 5244.028448054134, 4820.541133321878, 4224.743318071772, 3859.7731009769614, 3603.264617357215, 3590.5656537509935, 2739.861835952536, 2737.130703233164, 2456.15202691513, 2211.482749278334, 1833.7281788207401, 45242.95654745194, 254700.11640602257, 75768.65446537759, 49535.48211385876, 33943.55715294605, 28955.160094739276, 28358.08441215455, 19284.88637520482, 18229.866340120123, 13898.546285237771, 13044.585564844088, 11383.047803135463, 8815.820946553222, 8591.536174240928, 8313.344227967833, 8089.624007582738, 7743.286470416803, 7247.7808668504085, 6482.655927902664, 3371.0085789511636, 2892.674569963236, 2733.819858996597, 1435.2107374973668, 927.6528342088401, 18280.535304429857, 22481.9664066408, 1.263069013486088, 1.263053123391345, 1.263049341527331, 1.2632595256481225, 1.2631273131265879, 1.2630860264654187, 7371.768568592621, 1.2632778963946905, 88436.0151038579, 42892.089512617655, 40544.5700124074, 40036.46559261549, 29749.90222847896, 22720.420580978294, 22044.67459409543, 21594.640422291464, 19232.235572158395, 19043.84430381557, 18336.296804134257, 14065.530050957283, 12724.612766384464, 12048.320107362386, 11497.19372911467, 10475.031857714872, 10061.301271555838, 9939.027797518147, 9851.675284173292, 9821.079866781982, 9513.15368701669, 8728.65581978949, 7986.888352543846, 7852.1553093332495, 6905.095370308621, 6417.3755573577755, 6412.581356586903, 6053.570373762552, 5599.661663171912, 5034.407796276544, 32445.304555046478, 31983.72691786469, 24477.8121623313, 24145.736427236505, 23643.63668249164, 18590.489494087844, 15749.087753870763, 13909.022528152536, 13386.869111788936, 11323.160575894526, 10964.545429682448, 10267.844136135127, 10214.435888252572, 10206.571883229575, 10141.03086120302, 8996.838318001102, 8439.573082711018, 8082.50504413823, 8035.088856092334, 7000.4615399328195, 6636.993100539104, 6540.393387962563, 6161.036813799806, 6007.580895479109, 5388.343263078974, 5356.73216517498, 5125.301930076739, 5077.820132182271, 4559.205059268924, 4330.493273982443, 17969.99611718883, 11932.249535230068, 47467.16129651556, 23610.828068807434, 60654.44923988804, 41887.17590923294, 38561.323870642045, 31464.91293077302, 30480.344908822677, 28295.265051444265, 22404.81810483294, 18969.136134339424, 14516.202455156557, 12849.230395062676, 12063.488134107942, 10815.503999580977, 10610.728656696137, 9466.551721585573, 8528.365242054437, 7911.361088799259, 6761.929096044842, 6529.962050686774, 5784.908590135934, 5110.61248288529, 4592.662365776517, 4521.376702609108, 4244.534204345591, 4046.3879311176556, 3707.1280603962023, 3619.8935351220566, 3548.480671194312, 3451.1753406744774, 3258.7976016081925, 2977.5002319874566, 65294.280659099204, 50532.38240330667, 22120.023484395664, 22049.11262079964, 21842.91360940423, 19354.683649458253, 18207.129096144352, 18111.955365929236, 17902.888682000972, 16199.407917131226, 14429.433290029758, 11931.138192325312, 11314.009563608646, 10263.790101369554, 9363.313427822855, 9272.56298428171, 8101.942915844203, 7604.290952811101, 5934.473127985072, 5779.638845635368, 5747.886639723279, 4673.991987318405, 3727.492705106049, 3347.7559011370495, 3021.738460345528, 2999.331331403866, 2393.0428976932526, 2217.1707018283614, 2176.077936512163, 2169.300997786057, 76995.32382792147, 59882.50940417008, 51477.368065986324, 46701.872210822905, 39714.270826101594, 30577.010858104535, 20487.60149856177, 14796.183438409178, 14301.77887439567, 6367.273707930626, 6012.45089464116, 5979.539421793671, 5768.81941022766, 5095.662836231148, 3782.7694449257833, 3646.811995357121, 3219.034814398683, 2520.047511869258, 2469.471009048005, 1401.694862170602, 1.2629797043032966, 1.2630330944460098, 1.2629533229972028, 1.2630401625544667, 1.2629909442932743, 1.262964894709117, 1.262963364059172, 1.263100944135837, 1.263029748570993, 1.26297127142159, 1.2631273131265879, 1.2632778963946905, 1.2630556435936076, 1.2631561246586132, 1.2632595256481225, 1.263132524416883, 1.2631622301678733, 1.2631023349324833, 1.263127964198565, 1.2631277351296526, 37153.11479300701, 25781.385027135573, 24121.23356828424, 23990.81487313502, 23909.805243693558, 20509.13355712379, 20483.34641236422, 15504.803199082096, 15413.895199744824, 15022.496383656997, 14751.851971072456, 14567.64808878786, 14228.879768956433, 14207.278913873059, 11972.869992932905, 8419.757700742042, 8322.689446975017, 7067.210753747346, 6749.131953861806, 6736.172725387543, 6521.025553967224, 5785.413244125472, 5555.703979141778, 5102.194140850838, 4800.144705509625, 4741.889551550714, 3975.814598009765, 3662.358486726992, 2137.9378006254146, 1830.8936849447416, 27157.021897776227, 17314.197864956568, 16663.056286798597, 15854.699051042078, 15516.411406165658, 15467.04033021379, 15180.690325153593, 13487.037618610168, 12978.96695534659, 12167.241191867852, 9058.857139401014, 8025.055841737888, 7370.021804752004, 6964.3719883289505, 6930.013983567076, 6522.878298528271, 6265.748979073651, 6236.72249724333, 5949.782895024268, 5892.716318991949, 5723.384230643092, 5671.984144162569, 5507.089402991547, 5223.773657586878, 5170.91843986008, 5083.867286570881, 5039.4176701385095, 5034.774941967243, 4833.413897265028, 4537.278256278805, 36188.860807093726, 58137.85490165973, 46837.38619608029, 34911.964651055874, 25986.368185566513, 24525.577687713685, 17861.847343139663, 15515.117566377234, 15293.48522513802, 14501.939823247627, 10555.752642618585, 10087.829656563414, 9745.70307051165, 7887.380884878389, 7288.206186463876, 7274.8351018403855, 5788.194193991757, 4367.727458234121, 3549.39944299688, 3452.9399333032793, 3417.133976068723, 2669.2905788940343, 2439.1051393053303, 2230.8728897284477, 2162.3171568714724, 2132.599694212089, 1870.0253265641304, 1548.480311973346, 1418.7406122328312, 1406.8163987066587, 1192.0418187126443, 4722.38310095304, 26908.06657815254, 23716.186462020232, 21039.874103931183, 16256.472211347165, 15231.623946773234, 15127.866565899601, 14556.466123126944, 13523.652080315329, 12921.98430704187, 12148.740368874842, 10846.89513592233, 10549.832680812311, 9930.644792320129, 8706.040683548661, 7915.4690434377335, 6162.238028557509, 6130.201546649262, 6065.635400684663, 6026.415927649972, 5722.4016400235405, 5669.082148477617, 5216.454874077219, 5160.724306285269, 5015.5163120997395, 4955.41704359948, 4573.274429280145, 4486.875615283484, 4308.487495095564, 3995.8155951528543, 3786.744124641169, 23178.138958148465, 22075.050365693816, 18666.370726008896, 12959.41391683994, 12497.429017069891, 11408.917912906698, 10655.471214909294, 10422.762349556619, 9998.188814139887, 9891.886250809192, 9043.19367924082, 8954.000814457537, 8663.570017467464, 8457.800706536738, 7804.143827634484, 7675.771868601208, 6833.042767368733, 6507.97053825272, 6282.557224062576, 6048.79379472215, 4724.481868727795, 4718.469178424246, 4547.768570828003, 4507.150577949239, 4414.241605608326, 4243.376058758785, 3836.331115220516, 3823.359559277835, 3342.7132229430117, 2863.135326437883, 29706.83010832751, 28793.603354020484, 28519.621201088048, 18493.30280890705, 14595.861629551002, 11965.952425280146, 11884.347869347732, 11031.295557599155, 8300.613460042627, 7572.276174317301, 7429.476021540043, 6555.700937479521, 6170.648074986906, 5783.295597258429, 5652.42741032763, 5043.449640373546, 4333.816026439343, 4315.833822350567, 4315.275820057705, 4009.3445041988443, 3927.003849400892, 3838.7514478881017, 3379.8149951853275, 3049.7034117948247, 2973.3400916846495, 2931.579724790644, 2914.56040259692, 2642.325412359044, 2312.1886028301606, 2247.1482894587803, 34608.622737066944, 28781.39104424075, 25849.702683247004, 19881.096296393585, 19606.74361755771, 13933.200319846273, 11815.114094665378, 11063.845809355129, 10537.458374710415, 9257.20605117277, 8106.0022369037215, 7999.1237671740955, 6763.193757490176, 6642.294204583502, 6417.686554257935, 5923.432088948909, 4058.4782223486745, 3499.3451582034236, 3142.8367198402293, 2823.131584216708, 2632.658131727683, 2583.046102328395, 2418.5223608655588, 2233.8038807400744, 1498.5900765677945, 1099.2215943718152, 990.1968934946892, 1.2630462399819495, 1.2629799223359357, 1.263023262770012, 1.2631243302122819, 1.2632778963946905, 1.2632595256481225, 27200.398635065376, 27020.64001085616, 24046.10491923862, 22712.425103649308, 19036.41886156955, 17326.392650764777, 15170.633696889001, 14752.787074449305, 11383.765113700847, 10945.303459600656, 9666.456145716815, 7090.168227790519, 6593.974522186041, 6338.763876838383, 6202.712566358683, 2834.7102275175016, 2359.2466649376097, 2117.1757686318283, 1591.851819670492, 1477.4747673506918, 1275.7182043965752, 292.99826851659657, 1.2629967563858737, 1.2629785351184442, 1.2630472828786072, 1.2629700979772192, 1.263069985308393, 1.2629782682647475, 1.2630088513730304, 1.2630131017890673, 1.2630725881444553, 1.26307859546144, 1.2631622301678733, 1.2631170058926402, 1.2631561246586132, 1.2632778963946905, 1.2631277351296526, 1.263127964198565, 1.2632595256481225, 95731.26072082054, 45527.23689653119, 18024.073979999317, 7506.614219526233, 4999.639623261636, 4637.916710920397, 3917.7548127097484, 2719.9406464462118, 1603.2244090969161, 1369.0570027741326, 1024.0001255863508, 619.3735226022695, 1.2630081012911047, 1.2629804697644302, 1.2629992397951435, 1.2629702873553645, 1.2629723426380643, 1.2629679796469773, 1.2629585767499671, 1.2629623536318368, 1.2629904897217, 1.2629544930625338, 1.2629557555759312, 1.2629638238251626, 1.2629581411704165, 1.262952295217026, 1.2629533855122903, 1.2629619588022265, 1.2629570891402495, 1.262985276848438, 47467.16129651556, 1.2630225030755815, 1.2629667224264194, 1.2632595256481225, 1.2630164578683236, 1.2631243302122819, 1.2631162589114333, 1.262997542619085, 1.2630105661478461, 1.2630952484674984, 1.263053123391345, 1.263085500904511, 1.2630385080311566, 1.2632778963946905, 1.2630566434682295, 1.263069013486088, 1.263127964198565, 1.2630971067233379, 1.2631273131265879, 1.2630865522285795, 1.2630778940044725, 1.263132524416883, 1.2630957741722255, 1.2631622301678733, 1.2631023349324833, 1.2631561246586132], \"Category\": [\"Default\", \"Default\", \"Default\", \"Default\", \"Default\", \"Default\", \"Default\", \"Default\", \"Default\", \"Default\", \"Default\", \"Default\", \"Default\", \"Default\", \"Default\", \"Default\", \"Default\", \"Default\", \"Default\", \"Default\", \"Default\", \"Default\", \"Default\", \"Default\", \"Default\", \"Default\", \"Default\", \"Default\", \"Default\", \"Default\", \"Topic1\", \"Topic1\", \"Topic1\", \"Topic1\", \"Topic1\", \"Topic1\", \"Topic1\", \"Topic1\", \"Topic1\", \"Topic1\", \"Topic1\", \"Topic1\", \"Topic1\", \"Topic1\", \"Topic1\", \"Topic1\", \"Topic1\", \"Topic1\", \"Topic1\", \"Topic1\", \"Topic1\", \"Topic1\", \"Topic1\", \"Topic1\", \"Topic1\", \"Topic1\", \"Topic1\", \"Topic1\", \"Topic1\", \"Topic1\", \"Topic1\", \"Topic1\", \"Topic1\", \"Topic1\", \"Topic1\", \"Topic2\", \"Topic2\", \"Topic2\", \"Topic2\", \"Topic2\", \"Topic2\", \"Topic2\", \"Topic2\", \"Topic2\", \"Topic2\", \"Topic2\", \"Topic2\", \"Topic2\", \"Topic2\", \"Topic2\", \"Topic2\", \"Topic2\", \"Topic2\", \"Topic2\", \"Topic2\", \"Topic2\", \"Topic2\", \"Topic2\", \"Topic2\", \"Topic2\", \"Topic2\", \"Topic2\", \"Topic2\", \"Topic2\", \"Topic2\", \"Topic2\", \"Topic2\", \"Topic2\", \"Topic2\", \"Topic2\", \"Topic2\", \"Topic2\", \"Topic3\", \"Topic3\", \"Topic3\", \"Topic3\", \"Topic3\", \"Topic3\", \"Topic3\", \"Topic3\", \"Topic3\", \"Topic3\", \"Topic3\", \"Topic3\", \"Topic3\", \"Topic3\", \"Topic3\", \"Topic3\", \"Topic3\", \"Topic3\", \"Topic3\", \"Topic3\", \"Topic3\", \"Topic3\", \"Topic3\", \"Topic3\", \"Topic3\", \"Topic3\", \"Topic3\", \"Topic3\", \"Topic3\", \"Topic3\", \"Topic3\", \"Topic3\", \"Topic3\", \"Topic3\", \"Topic4\", \"Topic4\", \"Topic4\", \"Topic4\", \"Topic4\", \"Topic4\", \"Topic4\", \"Topic4\", \"Topic4\", \"Topic4\", \"Topic4\", \"Topic4\", \"Topic4\", \"Topic4\", \"Topic4\", \"Topic4\", \"Topic4\", \"Topic4\", \"Topic4\", \"Topic4\", \"Topic4\", \"Topic4\", \"Topic4\", \"Topic4\", \"Topic4\", \"Topic4\", \"Topic4\", \"Topic4\", \"Topic4\", \"Topic4\", \"Topic4\", \"Topic4\", \"Topic5\", \"Topic5\", \"Topic5\", \"Topic5\", \"Topic5\", \"Topic5\", \"Topic5\", \"Topic5\", \"Topic5\", \"Topic5\", \"Topic5\", \"Topic5\", \"Topic5\", \"Topic5\", \"Topic5\", \"Topic5\", \"Topic5\", \"Topic5\", \"Topic5\", \"Topic5\", \"Topic5\", \"Topic5\", \"Topic5\", \"Topic5\", \"Topic5\", \"Topic5\", \"Topic5\", \"Topic5\", \"Topic5\", \"Topic5\", \"Topic5\", \"Topic6\", \"Topic6\", \"Topic6\", \"Topic6\", \"Topic6\", \"Topic6\", \"Topic6\", \"Topic6\", \"Topic6\", \"Topic6\", \"Topic6\", \"Topic6\", \"Topic6\", \"Topic6\", \"Topic6\", \"Topic6\", \"Topic6\", \"Topic6\", \"Topic6\", \"Topic6\", \"Topic6\", \"Topic6\", \"Topic6\", \"Topic6\", \"Topic6\", \"Topic6\", \"Topic6\", \"Topic6\", \"Topic6\", \"Topic6\", \"Topic6\", \"Topic6\", \"Topic6\", \"Topic7\", \"Topic7\", \"Topic7\", \"Topic7\", \"Topic7\", \"Topic7\", \"Topic7\", \"Topic7\", \"Topic7\", \"Topic7\", \"Topic7\", \"Topic7\", \"Topic7\", \"Topic7\", \"Topic7\", \"Topic7\", \"Topic7\", \"Topic7\", \"Topic7\", \"Topic7\", \"Topic7\", \"Topic7\", \"Topic7\", \"Topic7\", \"Topic7\", \"Topic7\", \"Topic7\", \"Topic7\", \"Topic7\", \"Topic7\", \"Topic8\", \"Topic8\", \"Topic8\", \"Topic8\", \"Topic8\", \"Topic8\", \"Topic8\", \"Topic8\", \"Topic8\", \"Topic8\", \"Topic8\", \"Topic8\", \"Topic8\", \"Topic8\", \"Topic8\", \"Topic8\", \"Topic8\", \"Topic8\", \"Topic8\", \"Topic8\", \"Topic8\", \"Topic8\", \"Topic8\", \"Topic8\", \"Topic8\", \"Topic8\", \"Topic8\", \"Topic8\", \"Topic8\", \"Topic8\", \"Topic8\", \"Topic8\", \"Topic8\", \"Topic8\", \"Topic9\", \"Topic9\", \"Topic9\", \"Topic9\", \"Topic9\", \"Topic9\", \"Topic9\", \"Topic9\", \"Topic9\", \"Topic9\", \"Topic9\", \"Topic9\", \"Topic9\", \"Topic9\", \"Topic9\", \"Topic9\", \"Topic9\", \"Topic9\", \"Topic9\", \"Topic9\", \"Topic9\", \"Topic9\", \"Topic9\", \"Topic9\", \"Topic9\", \"Topic9\", \"Topic9\", \"Topic9\", \"Topic9\", \"Topic9\", \"Topic10\", \"Topic10\", \"Topic10\", \"Topic10\", \"Topic10\", \"Topic10\", \"Topic10\", \"Topic10\", \"Topic10\", \"Topic10\", \"Topic10\", \"Topic10\", \"Topic10\", \"Topic10\", \"Topic10\", \"Topic10\", \"Topic10\", \"Topic10\", \"Topic10\", \"Topic10\", \"Topic10\", \"Topic10\", \"Topic10\", \"Topic10\", \"Topic10\", \"Topic10\", \"Topic10\", \"Topic10\", \"Topic10\", \"Topic10\", \"Topic11\", \"Topic11\", \"Topic11\", \"Topic11\", \"Topic11\", \"Topic11\", \"Topic11\", \"Topic11\", \"Topic11\", \"Topic11\", \"Topic11\", \"Topic11\", \"Topic11\", \"Topic11\", \"Topic11\", \"Topic11\", \"Topic11\", \"Topic11\", \"Topic11\", \"Topic11\", \"Topic11\", \"Topic11\", \"Topic11\", \"Topic11\", \"Topic11\", \"Topic11\", \"Topic11\", \"Topic11\", \"Topic11\", \"Topic11\", \"Topic11\", \"Topic11\", \"Topic11\", \"Topic11\", \"Topic11\", \"Topic11\", \"Topic11\", \"Topic11\", \"Topic11\", \"Topic11\", \"Topic12\", \"Topic12\", \"Topic12\", \"Topic12\", \"Topic12\", \"Topic12\", \"Topic12\", \"Topic12\", \"Topic12\", \"Topic12\", \"Topic12\", \"Topic12\", \"Topic12\", \"Topic12\", \"Topic12\", \"Topic12\", \"Topic12\", \"Topic12\", \"Topic12\", \"Topic12\", \"Topic12\", \"Topic12\", \"Topic12\", \"Topic12\", \"Topic12\", \"Topic12\", \"Topic12\", \"Topic12\", \"Topic12\", \"Topic12\", \"Topic13\", \"Topic13\", \"Topic13\", \"Topic13\", \"Topic13\", \"Topic13\", \"Topic13\", \"Topic13\", \"Topic13\", \"Topic13\", \"Topic13\", \"Topic13\", \"Topic13\", \"Topic13\", \"Topic13\", \"Topic13\", \"Topic13\", \"Topic13\", \"Topic13\", \"Topic13\", \"Topic13\", \"Topic13\", \"Topic13\", \"Topic13\", \"Topic13\", \"Topic13\", \"Topic13\", \"Topic13\", \"Topic13\", \"Topic13\", \"Topic13\", \"Topic14\", \"Topic14\", \"Topic14\", \"Topic14\", \"Topic14\", \"Topic14\", \"Topic14\", \"Topic14\", \"Topic14\", \"Topic14\", \"Topic14\", \"Topic14\", \"Topic14\", \"Topic14\", \"Topic14\", \"Topic14\", \"Topic14\", \"Topic14\", \"Topic14\", \"Topic14\", \"Topic14\", \"Topic14\", \"Topic14\", \"Topic14\", \"Topic14\", \"Topic14\", \"Topic14\", \"Topic14\", \"Topic14\", \"Topic14\", \"Topic14\", \"Topic15\", \"Topic15\", \"Topic15\", \"Topic15\", \"Topic15\", \"Topic15\", \"Topic15\", \"Topic15\", \"Topic15\", \"Topic15\", \"Topic15\", \"Topic15\", \"Topic15\", \"Topic15\", \"Topic15\", \"Topic15\", \"Topic15\", \"Topic15\", \"Topic15\", \"Topic15\", \"Topic15\", \"Topic15\", \"Topic15\", \"Topic15\", \"Topic15\", \"Topic15\", \"Topic15\", \"Topic15\", \"Topic15\", \"Topic15\", \"Topic16\", \"Topic16\", \"Topic16\", \"Topic16\", \"Topic16\", \"Topic16\", \"Topic16\", \"Topic16\", \"Topic16\", \"Topic16\", \"Topic16\", \"Topic16\", \"Topic16\", \"Topic16\", \"Topic16\", \"Topic16\", \"Topic16\", \"Topic16\", \"Topic16\", \"Topic16\", \"Topic16\", \"Topic16\", \"Topic16\", \"Topic16\", \"Topic16\", \"Topic16\", \"Topic16\", \"Topic16\", \"Topic16\", \"Topic16\", \"Topic17\", \"Topic17\", \"Topic17\", \"Topic17\", \"Topic17\", \"Topic17\", \"Topic17\", \"Topic17\", \"Topic17\", \"Topic17\", \"Topic17\", \"Topic17\", \"Topic17\", \"Topic17\", \"Topic17\", \"Topic17\", \"Topic17\", \"Topic17\", \"Topic17\", \"Topic17\", \"Topic17\", \"Topic17\", \"Topic17\", \"Topic17\", \"Topic17\", \"Topic17\", \"Topic17\", \"Topic17\", \"Topic17\", \"Topic17\", \"Topic18\", \"Topic18\", \"Topic18\", \"Topic18\", \"Topic18\", \"Topic18\", \"Topic18\", \"Topic18\", \"Topic18\", \"Topic18\", \"Topic18\", \"Topic18\", \"Topic18\", \"Topic18\", \"Topic18\", \"Topic18\", \"Topic18\", \"Topic18\", \"Topic18\", \"Topic18\", \"Topic18\", \"Topic18\", \"Topic18\", \"Topic18\", \"Topic18\", \"Topic18\", \"Topic18\", \"Topic18\", \"Topic18\", \"Topic18\", \"Topic18\", \"Topic18\", \"Topic18\", \"Topic19\", \"Topic19\", \"Topic19\", \"Topic19\", \"Topic19\", \"Topic19\", \"Topic19\", \"Topic19\", \"Topic19\", \"Topic19\", \"Topic19\", \"Topic19\", \"Topic19\", \"Topic19\", \"Topic19\", \"Topic19\", \"Topic19\", \"Topic19\", \"Topic19\", \"Topic19\", \"Topic19\", \"Topic19\", \"Topic19\", \"Topic19\", \"Topic19\", \"Topic19\", \"Topic19\", \"Topic19\", \"Topic19\", \"Topic19\", \"Topic19\", \"Topic19\", \"Topic19\", \"Topic19\", \"Topic19\", \"Topic19\", \"Topic19\", \"Topic19\", \"Topic19\", \"Topic20\", \"Topic20\", \"Topic20\", \"Topic20\", \"Topic20\", \"Topic20\", \"Topic20\", \"Topic20\", \"Topic20\", \"Topic20\", \"Topic20\", \"Topic20\", \"Topic20\", \"Topic20\", \"Topic20\", \"Topic20\", \"Topic20\", \"Topic20\", \"Topic20\", \"Topic20\", \"Topic20\", \"Topic20\", \"Topic20\", \"Topic20\", \"Topic20\", \"Topic20\", \"Topic20\", \"Topic20\", \"Topic20\", \"Topic20\", \"Topic20\", \"Topic20\", \"Topic20\", \"Topic20\", \"Topic20\", \"Topic20\", \"Topic20\", \"Topic20\", \"Topic20\", \"Topic20\", \"Topic20\", \"Topic20\", \"Topic20\", \"Topic20\", \"Topic20\", \"Topic20\", \"Topic20\", \"Topic20\", \"Topic20\", \"Topic20\", \"Topic20\", \"Topic20\", \"Topic20\", \"Topic20\", \"Topic20\", \"Topic20\"], \"logprob\": [30.0, 29.0, 28.0, 27.0, 26.0, 25.0, 24.0, 23.0, 22.0, 21.0, 20.0, 19.0, 18.0, 17.0, 16.0, 15.0, 14.0, 13.0, 12.0, 11.0, 10.0, 9.0, 8.0, 7.0, 6.0, 5.0, 4.0, 3.0, 2.0, 1.0, -3.373300075531006, -3.385699987411499, -3.6052000522613525, -3.7609000205993652, -3.8413000106811523, -3.884500026702881, -3.992799997329712, -4.109600067138672, -4.114200115203857, -4.155200004577637, -4.342800140380859, -4.382599830627441, -4.431600093841553, -4.49970006942749, -4.547500133514404, -4.591700077056885, -4.614799976348877, -4.683000087738037, -4.734600067138672, -4.746300220489502, -4.775400161743164, -4.788300037384033, -4.838900089263916, -4.884099960327148, -4.908400058746338, -4.910399913787842, -4.955900192260742, -4.9756999015808105, -4.990300178527832, -5.018899917602539, -3.4282000064849854, -3.8178000450134277, -4.181600093841553, -4.724599838256836, -4.841700077056885, -3.0933001041412354, -3.2460999488830566, -3.2464001178741455, -3.2713000774383545, -3.3006999492645264, -3.313800096511841, -3.342400074005127, -3.5673000812530518, -3.586199998855591, -3.686199903488159, -3.6995999813079834, -3.885200023651123, -4.0192999839782715, -4.040200233459473, -4.077600002288818, -4.106500148773193, -4.162499904632568, -4.170000076293945, -4.240699768066406, -4.316699981689453, -4.343900203704834, -4.349699974060059, -4.391600131988525, -4.457399845123291, -4.478600025177002, -4.510799884796143, -4.526500225067139, -4.546199798583984, -4.65500020980835, -4.839099884033203, -3.4052000045776367, -3.938199996948242, -2.7149999141693115, -3.4888999462127686, -3.6714999675750732, -3.616300106048584, -4.362800121307373, -3.1854000091552734, -3.3157999515533447, -3.4930999279022217, -3.577699899673462, -3.7026000022888184, -3.72379994392395, -3.8294999599456787, -3.9021999835968018, -3.9094998836517334, -4.000800132751465, -4.0690999031066895, -4.107600212097168, -4.118899822235107, -4.165500164031982, -4.222499847412109, -4.240799903869629, -4.255099773406982, -4.260300159454346, -4.277299880981445, -4.293600082397461, -4.297999858856201, -4.345099925994873, -4.355000019073486, -4.415299892425537, -4.453400135040283, -4.470399856567383, -4.487500190734863, -4.6793999671936035, -4.685500144958496, -4.72629976272583, -4.408999919891357, -3.9203999042510986, -4.053800106048584, -4.473899841308594, -1.8106000423431396, -1.8628000020980835, -2.3143999576568604, -2.3965001106262207, -2.553999900817871, -2.7407000064849854, -2.7976999282836914, -2.8046000003814697, -3.6048998832702637, -4.041600227355957, -4.224899768829346, -4.459700107574463, -4.571899890899658, -4.5971999168396, -5.018199920654297, -5.036099910736084, -5.054599761962891, -5.314899921417236, -5.360599994659424, -5.493299961090088, -5.8018999099731445, -6.239799976348877, -6.354000091552734, -6.3968000411987305, -6.466400146484375, -6.616300106048584, -6.641499996185303, -7.2270002365112305, -2.6526999473571777, -5.0258002281188965, -5.736400127410889, -5.888700008392334, -1.676300048828125, -1.7585999965667725, -2.0952999591827393, -2.5385000705718994, -2.6738998889923096, -2.924799919128418, -3.1252999305725098, -3.2953999042510986, -3.367500066757202, -4.067599773406982, -4.11269998550415, -4.198500156402588, -4.334700107574463, -4.3460001945495605, -4.370500087738037, -4.5, -4.605400085449219, -4.839200019836426, -4.867700099945068, -4.921199798583984, -5.00540018081665, -5.13730001449585, -5.227700233459473, -5.296500205993652, -5.300000190734863, -5.570499897003174, -5.571499824523926, -5.679900169372559, -5.784900188446045, -5.972300052642822, -4.857699871063232, -0.8934000134468079, -2.1059000492095947, -2.530900001525879, -2.908900022506714, -3.0678000450134277, -3.08870005607605, -3.474299907684326, -3.5304999351501465, -3.801800012588501, -3.8652000427246094, -4.001500129699707, -4.2571001052856445, -4.282899856567383, -4.315800189971924, -4.343100070953369, -4.386899948120117, -4.453000068664551, -4.564599990844727, -5.218699932098389, -5.371799945831299, -5.428299903869629, -6.0731000900268555, -6.509900093078613, -5.586599826812744, -5.423699855804443, -16.104400634765625, -16.104400634765625, -16.104400634765625, -16.104299545288086, -16.104400634765625, -16.104400634765625, -9.498100280761719, -16.104299545288086, -1.9335999488830566, -2.6572000980377197, -2.713399887084961, -2.726099967956543, -3.0230000019073486, -3.29259991645813, -3.3227999210357666, -3.343400001525879, -3.4593000411987305, -3.469099998474121, -3.506999969482422, -3.772200107574463, -3.8724000453948975, -3.927000045776367, -3.97379994392395, -4.06689977645874, -4.1072001457214355, -4.119500160217285, -4.128300189971924, -4.131400108337402, -4.163300037384033, -4.249300003051758, -4.338200092315674, -4.355199813842773, -4.483699798583984, -4.557000160217285, -4.557700157165527, -4.6153998374938965, -4.693299770355225, -4.799799919128418, -2.7202999591827393, -2.734600067138672, -3.0020999908447266, -3.015700101852417, -3.0367000102996826, -3.2771999835968018, -3.4430999755859375, -3.5673000812530518, -3.605600118637085, -3.7730000019073486, -3.8052000999450684, -3.8708999156951904, -3.8761000633239746, -3.8768999576568604, -3.8833000659942627, -4.002999782562256, -4.066999912261963, -4.110199928283691, -4.116099834442139, -4.254000186920166, -4.307300090789795, -4.322000026702881, -4.381700038909912, -4.4070000648498535, -4.5157999992370605, -4.521699905395508, -4.565800189971924, -4.575099945068359, -4.6828999519348145, -4.734399795532227, -3.671299934387207, -4.015699863433838, -3.128200054168701, -3.7674999237060547, -1.9732999801635742, -2.3434998989105225, -2.4261999130249023, -2.6296000480651855, -2.661400079727173, -2.73580002784729, -2.9691998958587646, -3.135699987411499, -3.4033000469207764, -3.5253000259399414, -3.588399887084961, -3.6975998878479004, -3.7167000770568848, -3.8308000564575195, -3.9351999759674072, -4.010300159454346, -4.167300224304199, -4.202300071716309, -4.323400020599365, -4.447400093078613, -4.554299831390381, -4.569900035858154, -4.6331000328063965, -4.6809000968933105, -4.768499851226807, -4.792399883270264, -4.812300205230713, -4.840099811553955, -4.897500038146973, -4.987800121307373, -1.8655999898910522, -2.1219000816345215, -2.9481000900268555, -2.9512999057769775, -2.960700035095215, -3.081700086593628, -3.1428000926971436, -3.1480000019073486, -3.159600019454956, -3.2595999240875244, -3.3752999305725098, -3.565500020980835, -3.6185998916625977, -3.7160000801086426, -3.8078999519348145, -3.8176000118255615, -3.9526000022888184, -4.015999794006348, -4.263999938964844, -4.29040002822876, -4.295899868011475, -4.502799987792969, -4.729100227355957, -4.836599826812744, -4.9390997886657715, -4.946499824523926, -5.172500133514404, -5.248799800872803, -5.267600059509277, -5.270699977874756, -1.65910005569458, -1.9105000495910645, -2.0617001056671143, -2.15910005569458, -2.3210999965667725, -2.5826001167297363, -2.983099937438965, -3.308500051498413, -3.3424999713897705, -4.151800155639648, -4.209199905395508, -4.214700222015381, -4.2505998611450195, -4.37470006942749, -4.672699928283691, -4.7093000411987305, -4.834099769592285, -5.078999996185303, -5.099299907684326, -5.665999889373779, -15.710000038146973, -15.70989990234375, -15.710000038146973, -15.70989990234375, -15.70989990234375, -15.710000038146973, -15.710000038146973, -15.70989990234375, -15.70989990234375, -15.710000038146973, -15.709799766540527, -15.709699630737305, -15.70989990234375, -15.709799766540527, -15.709799766540527, -15.70989990234375, -15.709799766540527, -15.70989990234375, -15.70989990234375, -15.70989990234375, -2.333400011062622, -2.6988000869750977, -2.765399932861328, -2.7708001136779785, -2.774199962615967, -2.9275999069213867, -2.928800106048584, -3.2072999477386475, -3.213200092315674, -3.2388999462127686, -3.2571001052856445, -3.269700050354004, -3.2932000160217285, -3.2946999073028564, -3.46589994430542, -3.818000078201294, -3.8296000957489014, -3.9930999279022217, -4.0391998291015625, -4.041100025177002, -4.073599815368652, -4.193299770355225, -4.233799934387207, -4.318999767303467, -4.380000114440918, -4.392199993133545, -4.56850004196167, -4.650599956512451, -5.1890997886657715, -5.344299793243408, -2.625499963760376, -3.0755999088287354, -3.1138999462127686, -3.1637001037597656, -3.1851999759674072, -3.1884000301361084, -3.2070999145507812, -3.3254001140594482, -3.363800048828125, -3.4284000396728516, -3.723400115966797, -3.844599962234497, -3.929800033569336, -3.9863998889923096, -3.9914000034332275, -4.0518999099731445, -4.092100143432617, -4.096799850463867, -4.143899917602539, -4.153500080108643, -4.182700157165527, -4.191699981689453, -4.221199989318848, -4.274099826812744, -4.284200191497803, -4.301199913024902, -4.309999942779541, -4.3109002113342285, -4.3516998291015625, -4.414999961853027, -3.5536000728607178, -1.812000036239624, -2.02810001373291, -2.322000026702881, -2.617300033569336, -2.675100088119507, -2.9921998977661133, -3.1331000328063965, -3.1475000381469727, -3.2005999088287354, -3.518199920654297, -3.5636000633239746, -3.598099946975708, -3.8097000122070312, -3.888700008392334, -3.890500068664551, -4.119200229644775, -4.4008002281188965, -4.608399868011475, -4.635900020599365, -4.646399974822998, -4.893400192260742, -4.983699798583984, -5.07289981842041, -5.1041998863220215, -5.118000030517578, -5.249499797821045, -5.438300132751465, -5.525899887084961, -5.534299850463867, -5.700099945068359, -5.054699897766113, -2.5727999210357666, -2.6991000175476074, -2.8189001083374023, -3.0768001079559326, -3.141900062561035, -3.1487998962402344, -3.187299966812134, -3.2609000205993652, -3.3064000606536865, -3.3680999279022217, -3.4814999103546143, -3.509200096130371, -3.569700002670288, -3.7014000415802, -3.796600103378296, -4.046999931335449, -4.052199840545654, -4.06279993057251, -4.069300174713135, -4.121099948883057, -4.13040018081665, -4.213600158691406, -4.224400043487549, -4.252900123596191, -4.264999866485596, -4.345300197601318, -4.364299774169922, -4.404900074005127, -4.480299949645996, -4.533999919891357, -2.4955999851226807, -2.5443999767303467, -2.712100028991699, -3.0769999027252197, -3.113300085067749, -3.2044999599456787, -3.2727999687194824, -3.2948999404907227, -3.3364999294281006, -3.3471999168395996, -3.4368999004364014, -3.4467999935150146, -3.47979998588562, -3.5037999153137207, -3.5843000411987305, -3.600800037384033, -3.7172000408172607, -3.765899896621704, -3.8011999130249023, -3.839099884033203, -4.086299896240234, -4.087500095367432, -4.1244001388549805, -4.133399963378906, -4.154200077056885, -4.193699836730957, -4.294600009918213, -4.297900199890137, -4.432300090789795, -4.587299823760986, -2.2102999687194824, -2.241499900817871, -2.2511000633239746, -2.684299945831299, -2.9210000038146973, -3.1196999549865723, -3.126499891281128, -3.2009999752044678, -3.4853999614715576, -3.5773000717163086, -3.596299886703491, -3.7214999198913574, -3.7820000648498535, -3.8468000888824463, -3.8696999549865723, -3.983799934387207, -4.13539981842041, -4.139599800109863, -4.139699935913086, -4.2133002281188965, -4.234000205993652, -4.256800174713135, -4.384099960327148, -4.486999988555908, -4.51230001449585, -4.526500225067139, -4.532299995422363, -4.63040018081665, -4.763899803161621, -4.792500019073486, -2.007999897003174, -2.1923999786376953, -2.299799919128418, -2.5624001026153564, -2.5762999057769775, -2.9179000854492188, -3.0827999114990234, -3.1484999656677246, -3.1972999572753906, -3.3268001079559326, -3.4595999717712402, -3.472899913787842, -3.6407999992370605, -3.658799886703491, -3.69320011138916, -3.773400068283081, -4.151599884033203, -4.299799919128418, -4.407299995422363, -4.514699935913086, -4.584499835968018, -4.603600025177002, -4.669400215148926, -4.748899936676025, -5.148399829864502, -5.458600044250488, -5.5630998611450195, -15.189800262451172, -15.189900398254395, -15.189900398254395, -15.189800262451172, -15.18970012664795, -15.189800262451172, -2.181299924850464, -2.187999963760376, -2.3046000003814697, -2.3617000579833984, -2.5381999015808105, -2.6324000358581543, -2.765199899673462, -2.7932000160217285, -3.0524001121520996, -3.0917000770568848, -3.2160000801086426, -3.5260000228881836, -3.598599910736084, -3.638000011444092, -3.6596999168395996, -4.442999839782715, -4.626699924468994, -4.735000133514404, -5.020400047302246, -5.09499979019165, -5.242000102996826, -6.71619987487793, -15.154399871826172, -15.154399871826172, -15.154399871826172, -15.154399871826172, -15.15429973602295, -15.154399871826172, -15.154399871826172, -15.154399871826172, -15.154399871826172, -15.15429973602295, -15.15429973602295, -15.15429973602295, -15.15429973602295, -15.154199600219727, -15.15429973602295, -15.15429973602295, -15.15429973602295, -0.7053999900817871, -1.448699951171875, -2.3752999305725098, -3.251300096511841, -3.6577999591827393, -3.7330000400543213, -3.901700019836426, -4.2667999267578125, -4.7957000732421875, -4.953700065612793, -5.2444000244140625, -5.747900009155273, -14.84570026397705, -14.84570026397705, -14.84570026397705, -14.84570026397705, -14.84570026397705, -14.84570026397705, -14.84570026397705, -14.84570026397705, -14.84570026397705, -14.845800399780273, -14.845800399780273, -14.84570026397705, -14.845800399780273, -14.845800399780273, -14.845800399780273, -14.84570026397705, -14.845800399780273, -14.84570026397705, -4.434999942779541, -14.84570026397705, -14.84570026397705, -14.845499992370605, -14.84570026397705, -14.845600128173828, -14.845600128173828, -14.84570026397705, -14.84570026397705, -14.84570026397705, -14.84570026397705, -14.84570026397705, -14.84570026397705, -14.845600128173828, -14.84570026397705, -14.84570026397705, -14.84570026397705, -14.84570026397705, -14.84570026397705, -14.84570026397705, -14.84570026397705, -14.84570026397705, -14.84570026397705, -14.84570026397705, -14.84570026397705, -14.84570026397705], \"loglift\": [30.0, 29.0, 28.0, 27.0, 26.0, 25.0, 24.0, 23.0, 22.0, 21.0, 20.0, 19.0, 18.0, 17.0, 16.0, 15.0, 14.0, 13.0, 12.0, 11.0, 10.0, 9.0, 8.0, 7.0, 6.0, 5.0, 4.0, 3.0, 2.0, 1.0, 0.4789, 0.4789, 0.4789, 0.4789, 0.4789, 0.4789, 0.4789, 0.4789, 0.4789, 0.4789, 0.4789, 0.4789, 0.4789, 0.4789, 0.4789, 0.4789, 0.4789, 0.4789, 0.4789, 0.4789, 0.4789, 0.4789, 0.4788, 0.4788, 0.4788, 0.4788, 0.4788, 0.4788, 0.4788, 0.4788, 0.4779, 0.4786, 0.4786, 0.4782, 0.4783, 2.9007, 2.9007, 2.9007, 2.9007, 2.9007, 2.9007, 2.9007, 2.9007, 2.9007, 2.9007, 2.9007, 2.9007, 2.9007, 2.9007, 2.9007, 2.9007, 2.9007, 2.9007, 2.9007, 2.9007, 2.9007, 2.9007, 2.9007, 2.9007, 2.9007, 2.9007, 2.9007, 2.9007, 2.9007, 2.9006, 2.9005, 2.8965, 2.8768, 2.6208, 2.3448, 2.0858, 2.6512, 3.1202, 3.1202, 3.1202, 3.1202, 3.1202, 3.1202, 3.1202, 3.1202, 3.1202, 3.1202, 3.1202, 3.1202, 3.1202, 3.1202, 3.1201, 3.1201, 3.1201, 3.1201, 3.1201, 3.1201, 3.1201, 3.1201, 3.1201, 3.1201, 3.1201, 3.1201, 3.1201, 3.1201, 3.1201, 3.1201, 3.12, 2.9808, 2.9899, 2.8159, 3.4375, 3.4375, 3.4375, 3.4375, 3.4375, 3.4375, 3.4375, 3.4375, 3.4374, 3.4374, 3.4374, 3.4374, 3.4374, 3.4373, 3.4373, 3.4373, 3.4373, 3.4372, 3.4372, 3.4371, 3.437, 3.4368, 3.4367, 3.4366, 3.4366, 3.4364, 3.4364, 3.4355, 3.3876, 1.6159, 1.0346, -0.2851, 3.5784, 3.5784, 3.5784, 3.5784, 3.5784, 3.5784, 3.5784, 3.5784, 3.5784, 3.5783, 3.5783, 3.5783, 3.5783, 3.5783, 3.5783, 3.5783, 3.5783, 3.5782, 3.5782, 3.5782, 3.5782, 3.5782, 3.5781, 3.5781, 3.5781, 3.578, 3.578, 3.5779, 3.5779, 3.5778, 1.4867, 3.7229, 3.7229, 3.7229, 3.7229, 3.7229, 3.7229, 3.7229, 3.7229, 3.7228, 3.7228, 3.7228, 3.7228, 3.7228, 3.7228, 3.7228, 3.7228, 3.7228, 3.7227, 3.7226, 3.7225, 3.7225, 3.7221, 3.7216, 1.664, 1.62, 0.7263, 0.7263, 0.7263, 0.7263, 0.7263, 0.7263, -1.3393, 0.7262, 3.7406, 3.7406, 3.7406, 3.7406, 3.7406, 3.7406, 3.7406, 3.7406, 3.7406, 3.7406, 3.7406, 3.7405, 3.7405, 3.7405, 3.7405, 3.7405, 3.7405, 3.7405, 3.7405, 3.7405, 3.7405, 3.7405, 3.7405, 3.7405, 3.7405, 3.7404, 3.7404, 3.7404, 3.7404, 3.7404, 3.9566, 3.9566, 3.9566, 3.9566, 3.9566, 3.9566, 3.9566, 3.9566, 3.9566, 3.9566, 3.9566, 3.9565, 3.9565, 3.9565, 3.9565, 3.9565, 3.9565, 3.9565, 3.9565, 3.9565, 3.9565, 3.9565, 3.9565, 3.9565, 3.9564, 3.9564, 3.9564, 3.9564, 3.9564, 3.9564, 3.5965, 3.6615, 3.1682, 3.2273, 4.078, 4.078, 4.078, 4.0779, 4.0779, 4.0779, 4.0779, 4.0779, 4.0779, 4.0779, 4.0779, 4.0779, 4.0779, 4.0779, 4.0778, 4.0778, 4.0778, 4.0778, 4.0778, 4.0777, 4.0777, 4.0777, 4.0777, 4.0777, 4.0777, 4.0777, 4.0776, 4.0776, 4.0776, 4.0776, 4.1119, 4.1119, 4.1119, 4.1119, 4.1119, 4.1119, 4.1119, 4.1119, 4.1119, 4.1118, 4.1118, 4.1118, 4.1118, 4.1118, 4.1118, 4.1118, 4.1118, 4.1118, 4.1117, 4.1117, 4.1117, 4.1117, 4.1116, 4.1116, 4.1115, 4.1115, 4.1114, 4.1114, 4.1114, 4.1114, 4.1536, 4.1536, 4.1536, 4.1536, 4.1536, 4.1536, 4.1536, 4.1535, 4.1535, 4.1534, 4.1534, 4.1534, 4.1534, 4.1534, 4.1533, 4.1533, 4.1533, 4.1531, 4.1531, 4.1528, 1.1208, 1.1208, 1.1208, 1.1208, 1.1208, 1.1208, 1.1208, 1.1208, 1.1208, 1.1208, 1.1208, 1.1208, 1.1208, 1.1207, 1.1207, 1.1207, 1.1207, 1.1208, 1.1207, 1.1207, 4.208, 4.208, 4.208, 4.208, 4.208, 4.208, 4.208, 4.208, 4.208, 4.208, 4.208, 4.208, 4.208, 4.208, 4.208, 4.2079, 4.2079, 4.2079, 4.2079, 4.2079, 4.2079, 4.2078, 4.2078, 4.2078, 4.2078, 4.2078, 4.2078, 4.2077, 4.2075, 4.2074, 4.2294, 4.2293, 4.2293, 4.2293, 4.2293, 4.2293, 4.2293, 4.2293, 4.2293, 4.2293, 4.2293, 4.2293, 4.2292, 4.2292, 4.2292, 4.2292, 4.2292, 4.2292, 4.2292, 4.2292, 4.2292, 4.2292, 4.2292, 4.2292, 4.2292, 4.2292, 4.2292, 4.2292, 4.2292, 4.2291, 3.0141, 4.2816, 4.2816, 4.2816, 4.2816, 4.2816, 4.2816, 4.2816, 4.2816, 4.2816, 4.2815, 4.2815, 4.2815, 4.2815, 4.2815, 4.2815, 4.2814, 4.2814, 4.2813, 4.2813, 4.2813, 4.2812, 4.2812, 4.2811, 4.2811, 4.2811, 4.281, 4.2809, 4.2808, 4.2808, 4.2806, 3.5494, 4.2912, 4.2912, 4.2912, 4.2911, 4.2911, 4.2911, 4.2911, 4.2911, 4.2911, 4.2911, 4.2911, 4.2911, 4.2911, 4.2911, 4.2911, 4.291, 4.291, 4.291, 4.291, 4.291, 4.291, 4.291, 4.291, 4.291, 4.291, 4.291, 4.291, 4.2909, 4.2909, 4.2909, 4.5176, 4.5176, 4.5176, 4.5176, 4.5176, 4.5176, 4.5176, 4.5176, 4.5176, 4.5176, 4.5176, 4.5176, 4.5176, 4.5175, 4.5175, 4.5175, 4.5175, 4.5175, 4.5175, 4.5175, 4.5174, 4.5174, 4.5174, 4.5174, 4.5174, 4.5174, 4.5174, 4.5174, 4.5173, 4.5173, 4.5548, 4.5548, 4.5548, 4.5548, 4.5548, 4.5547, 4.5547, 4.5547, 4.5547, 4.5547, 4.5547, 4.5547, 4.5546, 4.5546, 4.5546, 4.5546, 4.5546, 4.5546, 4.5546, 4.5545, 4.5545, 4.5545, 4.5545, 4.5544, 4.5544, 4.5544, 4.5544, 4.5544, 4.5543, 4.5543, 4.6043, 4.6043, 4.6043, 4.6043, 4.6043, 4.6043, 4.6043, 4.6043, 4.6043, 4.6042, 4.6042, 4.6042, 4.6042, 4.6042, 4.6042, 4.6042, 4.6041, 4.604, 4.604, 4.6039, 4.6039, 4.6039, 4.6039, 4.6038, 4.6036, 4.6033, 4.6032, 1.6408, 1.6408, 1.6408, 1.6408, 1.6408, 1.6407, 4.6719, 4.6719, 4.6719, 4.6719, 4.6719, 4.6719, 4.6718, 4.6718, 4.6718, 4.6718, 4.6718, 4.6718, 4.6717, 4.6717, 4.6717, 4.6715, 4.6714, 4.6714, 4.6712, 4.6711, 4.671, 4.6678, 1.6763, 1.6763, 1.6763, 1.6763, 1.6763, 1.6763, 1.6763, 1.6763, 1.6763, 1.6763, 1.6763, 1.6763, 1.6763, 1.6763, 1.6763, 1.6763, 1.6762, 4.8895, 4.8895, 4.8894, 4.8893, 4.8893, 4.8892, 4.8892, 4.889, 4.8887, 4.8886, 4.8883, 4.8876, 1.985, 1.985, 1.985, 1.985, 1.985, 1.985, 1.985, 1.985, 1.985, 1.985, 1.985, 1.985, 1.985, 1.985, 1.985, 1.985, 1.985, 1.985, 1.8614, 1.985, 1.985, 1.985, 1.985, 1.985, 1.985, 1.985, 1.985, 1.985, 1.985, 1.985, 1.985, 1.9849, 1.985, 1.985, 1.985, 1.985, 1.985, 1.985, 1.985, 1.9849, 1.985, 1.9849, 1.985, 1.9849]}, \"token.table\": {\"Topic\": [17, 1, 8, 7, 13, 5, 1, 17, 19, 16, 13, 2, 14, 18, 8, 15, 16, 11, 2, 3, 15, 2, 18, 11, 4, 3, 14, 1, 2, 15, 14, 5, 16, 13, 16, 9, 7, 1, 2, 8, 15, 14, 14, 6, 16, 5, 7, 16, 6, 5, 4, 12, 2, 20, 14, 16, 9, 9, 4, 3, 15, 3, 19, 4, 13, 7, 12, 9, 8, 1, 13, 14, 12, 18, 17, 3, 20, 10, 10, 20, 10, 19, 9, 9, 15, 8, 1, 2, 3, 5, 18, 6, 1, 3, 3, 10, 1, 2, 7, 11, 10, 5, 13, 7, 9, 14, 15, 18, 15, 14, 11, 9, 7, 18, 16, 9, 12, 1, 2, 3, 16, 17, 8, 13, 8, 9, 6, 7, 17, 2, 1, 2, 18, 19, 1, 6, 13, 11, 14, 12, 3, 10, 8, 12, 16, 17, 19, 6, 9, 8, 5, 2, 6, 2, 4, 20, 3, 11, 16, 10, 14, 12, 18, 17, 8, 8, 11, 5, 12, 12, 13, 16, 4, 3, 7, 10, 5, 17, 2, 2, 7, 16, 2, 10, 4, 1, 14, 16, 9, 2, 1, 2, 11, 5, 5, 19, 12, 18, 17, 4, 10, 18, 2, 10, 5, 1, 12, 17, 8, 17, 17, 1, 19, 6, 1, 1, 4, 13, 1, 13, 6, 15, 1, 2, 10, 5, 18, 1, 4, 2, 1, 10, 8, 15, 2, 17, 5, 6, 2, 1, 8, 20, 16, 2, 20, 5, 4, 12, 16, 4, 1, 4, 5, 6, 7, 8, 4, 2, 11, 11, 14, 10, 9, 8, 9, 4, 2, 16, 18, 3, 13, 20, 1, 13, 3, 8, 15, 14, 9, 15, 6, 18, 9, 8, 1, 2, 1, 2, 6, 2, 7, 17, 5, 6, 1, 2, 6, 3, 1, 1, 2, 17, 16, 6, 8, 13, 1, 8, 1, 11, 7, 10, 18, 1, 17, 19, 7, 15, 17, 4, 13, 13, 6, 10, 10, 11, 7, 4, 11, 9, 5, 14, 11, 19, 10, 1, 17, 4, 12, 4, 16, 12, 3, 9, 1, 2, 12, 14, 1, 8, 8, 4, 5, 2, 14, 9, 3, 13, 20, 18, 1, 7, 1, 4, 6, 17, 15, 9, 18, 1, 9, 17, 17, 18, 17, 4, 5, 18, 12, 5, 9, 12, 14, 4, 12, 3, 8, 19, 12, 19, 13, 12, 14, 10, 15, 19, 18, 10, 8, 10, 5, 1, 3, 10, 15, 18, 8, 11, 7, 12, 15, 14, 13, 13, 3, 6, 12, 5, 5, 14, 13, 8, 15, 16, 2, 11, 13, 13, 12, 5, 10, 13, 16, 1, 2, 13, 3, 9, 3, 13, 16, 17, 19, 17, 20, 1, 15, 20, 7, 10, 14, 17, 8, 5, 12, 3, 1, 5, 18, 15, 12, 6, 9, 14, 14, 14, 1, 6, 20, 8, 9, 5, 3, 4, 4, 3, 3, 16, 6, 14, 19, 13, 15, 16, 7, 6, 4, 5, 7, 3, 19, 5, 7, 7, 15, 2, 12, 14, 1, 10, 18, 1, 4, 19, 2, 6, 15, 3, 13, 10, 15, 14, 8, 15, 10, 7, 3, 16, 8, 13, 16, 15, 18, 4, 17, 1, 15, 1, 10, 19, 17, 18, 20, 19, 19, 7, 2, 1, 12, 8, 10, 13, 7, 13, 7, 1, 1, 8, 7, 7, 1, 9, 1, 4, 4, 7, 9, 2, 19, 3, 14, 3, 18, 2, 14, 16, 16, 3, 15, 18, 17, 12, 19, 1, 2, 9, 9, 7, 10, 15, 17, 8, 3, 18, 4, 2, 1, 6, 1, 4, 17, 4, 15, 14, 6, 12, 1, 11, 9, 12, 20, 11, 16, 3, 8, 19, 11, 1, 5, 1, 16, 11], \"Freq\": [0.999712569674149, 0.5177709127512814, 0.4821940156788007, 0.9998732561521461, 0.9999230654915104, 0.9998240560394304, 0.9999891803716534, 0.9999295523941552, 0.999932789047103, 0.999831000453072, 0.9998029989880998, 0.9999246217508844, 0.999935193273515, 0.9996155971638665, 0.9999772722589035, 0.9999390579720727, 0.9998187793872159, 0.9999680007696186, 0.9999247932424178, 0.9999174081398067, 0.9997303826266117, 0.9998824341031977, 0.9996357693037419, 0.9999828063854316, 0.9997328363555785, 0.9999120792638161, 0.9999278584103616, 0.0236177186680799, 0.9763760670360844, 0.9997958876896512, 0.9992498853786621, 0.9999262742015406, 0.9998994409142923, 0.9998979890471242, 0.9997521353157578, 0.9996385458870798, 0.9999240356746218, 0.42646564423919897, 0.5735189201775849, 0.9997912223466292, 0.9997550608797298, 0.9999473498737206, 0.9999723690412294, 0.9997001049670853, 0.9999104062878686, 0.9999886051947123, 0.999891219815269, 0.9999265670853207, 0.9998887448222255, 0.999969190026585, 0.9999010729786427, 0.999942246500702, 0.9999389460919337, 0.9990233149768628, 0.9991260216745002, 0.9998680024686898, 0.9998279576947655, 0.9999552910551655, 0.9993182187161685, 0.9999502952575401, 0.999958454887759, 0.9999555138092369, 0.9994715834693603, 0.9985260799698819, 0.9998021817130923, 0.9997203650690385, 0.9996290677900824, 0.9998766414745555, 0.9997507094456699, 0.7033656056675461, 0.2966106078115597, 0.9997936845323889, 0.9997615268747396, 0.9987912570696268, 0.9999204053930439, 0.9998516895097365, 0.9996720517106857, 0.9999726432192404, 0.9997556173854161, 0.9998073353882944, 0.9994719838993922, 0.9999196225785224, 0.9999761066186207, 0.9999634853169033, 0.999893383215151, 0.99981378989187, 0.24417384111262463, 0.7558028086894857, 0.9999395134532614, 0.9996854454698311, 0.9999235519574564, 0.9999540378310987, 0.00014453611428309786, 0.9998285705533295, 0.999935144170773, 0.9998836185524883, 0.9999954616627224, 0.9999107240400564, 0.9999745987516572, 0.9997425517778075, 0.9999006690005804, 0.9998038820604576, 0.9998886529454598, 0.9998413678233423, 0.9998399174970011, 0.9994196835440579, 0.9997140415050817, 0.9998595137159013, 0.9996976757714692, 0.999605724005045, 0.9994043222039801, 0.9998526713203987, 0.9998787271755881, 0.9999057059748682, 0.9996757160478519, 0.9996594375659141, 0.999938170188327, 0.18084589823605016, 0.08146314132558158, 0.7376055100750634, 0.9997187273105422, 0.999805621590453, 0.999959792177501, 0.9998294041677342, 0.9999068208217742, 0.9996380387574527, 0.999799248076151, 0.9999633935565042, 0.9998314675418694, 0.9999499977735719, 0.22083410361607073, 0.7791148062278811, 0.999913851820205, 0.9999393052549642, 0.8723486339120289, 0.12756738034005463, 0.9998264903184574, 0.9997586849910985, 0.9994517044504342, 0.9999273363083857, 0.9998344901355631, 0.9999107687152843, 0.9999695007340644, 0.9999419225488935, 0.9996530238969116, 0.9997759759575418, 0.9997494532207888, 0.9997445602664894, 0.9994961437882223, 0.9996551723122596, 0.9996802986886213, 0.9999359544542049, 0.9991564043762117, 0.9999716594229467, 0.9999671617864799, 0.9999728317241391, 0.9999114346288244, 0.9997965921695768, 0.9996034674199995, 0.9998314398851363, 0.9998334469718917, 0.9998286801130554, 0.9999516686237085, 0.9997043479696537, 0.9999198787052747, 0.9998590520972931, 0.9987908479824366, 0.9999416631255961, 0.9998732871397717, 0.9998868665155957, 0.999905381066527, 0.999686342593967, 0.9999636913772408, 0.9999540606942019, 0.9998887736369116, 0.999949538976068, 0.9995639534541423, 0.9997693507532227, 0.9999558856971907, 0.9999716145077808, 0.9999240363431865, 0.9998508692921987, 0.9999816403725468, 0.9995561239300484, 0.9988571230226877, 0.5190176119987714, 0.48090126350436957, 0.9997866335232959, 0.9998609404073047, 0.9999463768463259, 0.9997535223869308, 0.00024518646729026697, 0.9996736761664597, 0.999858761098329, 0.9997822662558871, 0.9999466491012625, 0.9998124056789929, 0.999861600904264, 0.999549297543057, 0.9988854399819278, 0.9999130883586346, 0.9999531117698826, 0.9999329472050145, 0.9999537304109832, 0.9996490356686203, 0.999992973581408, 0.9997951116709082, 0.9997588639654867, 0.9997869565514014, 0.9994983916996579, 0.9997443726975096, 0.9999871620178654, 0.9998794911984064, 0.9999781642502528, 0.9999917560869563, 0.9990358886490011, 0.0009610233621671371, 0.9998460821037335, 0.9999976980481363, 0.9999623707717262, 0.9998211991185542, 0.9998048496640956, 0.999991692357689, 0.9999374023120107, 0.9995641959890239, 0.9995869019949145, 0.9997582332459621, 0.8381861050677029, 0.16175155905953467, 0.9999756499856034, 0.9999903050057961, 0.9999803863510514, 0.9997459798282129, 0.9997990943303762, 0.9999716697019723, 0.9998013289852793, 0.9993295225663336, 0.9998922612500635, 0.9999240161832729, 0.4970172927053008, 0.4545668923661528, 0.048412416863207075, 0.9998619286862476, 0.9999851138176276, 0.9997849603724095, 0.9998233461478393, 0.9999883299180845, 0.9999100091987236, 0.9998473934081442, 0.9999841471017703, 0.9094930930183304, 0.09044813654970439, 0.9997997029989235, 0.9982182621042174, 0.9999374755861921, 0.999930777041044, 0.9995198322434866, 0.9999675043799593, 0.9999455400336902, 0.99977734104249, 0.9997277875313689, 0.9998457450922655, 0.9996957050369386, 0.9998644873613926, 0.9996955125176114, 0.999399716757116, 0.9999634482999712, 0.9998810970504772, 0.9997337692298975, 0.9999382231148619, 0.9997182768596931, 0.9998023442468816, 0.9999980962389414, 0.999925498281187, 0.9999271870243609, 0.9998503689059097, 0.9998596502656832, 0.9993908586132766, 0.999753159833739, 0.9999427172433187, 0.9998383047867414, 0.9998234920463643, 0.9999171646193092, 0.9999668204688428, 0.004222438688086497, 0.995737656777731, 0.9993896871411412, 0.0006069782490987799, 0.9998338598963479, 0.999936376174173, 0.9998900460237947, 0.9999431548870646, 0.9999769015760167, 0.9999700797530273, 0.999440969849954, 0.0005475214916765659, 0.9999079505635411, 0.9999294201641179, 0.9999881482282177, 0.9997139375187861, 0.00028304936188489413, 0.9998067992455482, 0.9998534332964965, 0.9999956167824408, 0.9999177883766119, 0.9999090378484617, 0.30239294235585384, 0.6975516254012933, 0.9999937330432336, 0.9998579587660159, 0.9998965897330115, 0.9998597261714051, 0.9998697175836744, 0.9999895606996353, 0.9998117071803777, 0.9998809115155676, 0.9999292766610341, 0.9998804641987686, 0.9994646181991872, 0.9997324246963654, 0.9997186837386173, 0.9998684162030647, 0.9994210997736751, 0.9997877644375307, 0.9997164449753455, 0.9999813238574469, 0.9998528672335509, 0.9998511359870874, 0.9999218308418444, 0.9999656684338306, 0.9998251970250708, 0.9999852952665492, 0.9995843285238376, 0.9999540499701581, 0.9999379860417098, 0.9999932441926566, 0.9994611353130584, 0.9997503238915365, 0.9999481967573671, 0.9999942150996277, 0.9996444071616188, 0.9995613527086054, 0.9999690897739865, 0.9997552466566814, 0.00025516641875242415, 0.9997207648037684, 0.9999003904797991, 0.9998852067670683, 0.25552600044088936, 0.7443692803922529, 0.9998384873506896, 0.9999448115480867, 0.999948262169914, 0.9999772496484742, 0.9998249247882733, 0.9998360837577178, 0.9998856016976886, 0.9998653510784542, 0.9977824001960905, 0.999972816583014, 0.9999933661360649, 0.9999357551464176, 0.999989198090707, 0.9997752960587707, 0.9999599347841462, 0.9998825561700899, 0.9998343720519134, 0.9995827309399395, 0.9996401292221733, 0.9999872940975418, 0.9999042436764813, 0.9997474694986755, 0.9996646573529822, 0.9995991741146484, 0.9998042467978709, 0.9999012235022917, 0.9998615751816043, 0.9998763586692391, 0.9999462780167119, 0.9999801518936284, 0.9998625989667084, 0.9999663216121859, 0.9998345015998427, 0.9998157364325844, 0.9997659554266511, 0.9998986896917854, 0.999863318689006, 0.9998522101984528, 0.9999699946286276, 0.999835232711977, 0.9999366090601618, 0.99990998178604, 0.9995469078853874, 0.9999472521928232, 0.9998992802844768, 0.9965929200822563, 0.9989389516234911, 0.9999230205058999, 0.9999309322617436, 0.9999130107477473, 0.9998579293190316, 0.13010589363579497, 0.8698541379723725, 0.9997517676879982, 0.99990943844839, 0.9999620733778023, 0.9997356865389343, 0.9999734239329297, 0.9998706656802419, 0.9998427311841156, 0.9998778377094059, 0.9999356717409973, 0.9997581447291829, 0.9998223836111976, 0.8778591535556388, 0.12209786058523656, 0.9997557228730537, 0.9999900604742953, 0.9998554487953597, 0.9999525612819667, 0.99993273889564, 0.9998459930280648, 0.9996547523702327, 0.9998882271201136, 0.999939069398867, 0.9997999602358794, 0.9999308160293702, 0.9998784399327623, 0.9999660339534389, 0.9996028970764858, 0.999504642506559, 0.9998841543384929, 0.9998856551161092, 0.9999886821023655, 0.999954856253582, 0.9998613566175143, 0.9999045843172607, 0.9999313283074412, 0.9999719231037995, 0.999707474407307, 0.9999268572446487, 0.9994859403645941, 0.9999254659408439, 0.9999443156175776, 0.9996541665541707, 0.9999963185934229, 0.9998039955717413, 0.999986830625534, 0.9998103007125408, 0.9999046032065873, 0.9999286983463835, 0.9998930797047936, 0.9998594255944938, 0.9995309626999852, 0.9999488596517775, 0.9999482309992449, 0.8765121253384004, 0.12346673220043133, 0.999370168231226, 0.9998034922306139, 0.9997970070869783, 0.999700807954788, 0.9999709857524466, 0.9995165086543073, 0.9999279691969815, 0.9999028851098258, 0.9935200667047337, 0.0063756749228730866, 0.9992362833986504, 0.9999350772924066, 0.9999719267482848, 0.9999757688433711, 0.9999142963211763, 0.9990540247725729, 0.9999802562236731, 0.9998954422872863, 0.999959983837659, 0.9998908965444724, 0.9999617600350296, 0.9996681499535387, 0.9994370195595704, 0.9998536823201972, 0.9999210716570107, 0.999905329226294, 0.999901493596498, 0.9999541252279768, 0.9987772711934517, 0.9999345851340612, 0.9997405871798636, 0.999928983559684, 0.9998493609555701, 0.9998967739313311, 0.9998961721318441, 0.9997856511052717, 0.9999238269434104, 0.9999770021532735, 0.9998322815630892, 0.9999177566838796, 0.9999957836784883, 0.9999503609715306, 0.9988886732410736, 0.04861334687651395, 0.9513767337903213, 0.999444652329179, 0.999951470338006, 0.9999524768803041, 0.9998144085423527, 0.9999649281044645, 0.9998518968015098, 0.999400268663784, 0.9997213311162816, 0.9990440227351295, 0.9998317143962712, 0.999960362140868, 0.9999581736475012, 0.9999885216011066, 0.9998827271227755, 0.999688632399897, 0.999898347493748, 0.999892836121543, 0.9999524184236767, 0.9999499724788329, 0.9998051569919006, 0.999821801588534, 0.999732917034503, 0.9999900247504361, 0.9998091139889537, 0.9999929381769056, 0.9997742066150066, 0.9998923118887686, 0.9994890014761524, 0.9993705409177966, 0.9992279337003567, 0.9999485803467758, 0.9999372544480475, 0.9999696728926357, 0.9999291355501433, 0.999995983721694, 0.9995118859428648, 0.9998975042447957, 0.9998302336379404, 0.9998804645580038, 0.9999612768761164, 0.999868431851602, 0.9997533978129917, 0.99999511635167, 0.9999970825095316, 0.9997368499057085, 0.9997032565051492, 0.9998904322469339, 0.9999968731216712, 0.9996569950431637, 0.9999933257394198, 0.9999736220794156, 0.9999864842693025, 0.9998299493106534, 0.9999558761940949, 0.9999375132418294, 0.9994648875856621, 0.9999396767121802, 0.9994779791129926, 0.9999583516145104, 0.9995950121341419, 0.9999073866023345, 0.9996087227862839, 0.9999508606730453, 0.9997447216529955, 0.9999627830205114, 0.9997210990773736, 0.999737202145403, 0.9999409675445773, 0.999944729155884, 0.9998851202032886, 0.5573248680142826, 0.4426690676758411, 0.9998429378577419, 0.9996844834370264, 0.9999556652636883, 0.9995995417767004, 0.9997650464775464, 0.9998865844922624, 0.9999264845426437, 0.9999516856973404, 0.9999448573470375, 0.9999729245499929, 0.9999832401548306, 0.9999967053684368, 0.9998784503473716, 0.9758145358800928, 0.024171195055759393, 0.9999720566507944, 0.9997469648450645, 0.9999174753778742, 0.999970404068355, 0.9999068780368614, 0.9999342679493324, 0.9999944632507022, 0.9996785327098501, 0.9999401061634342, 0.9998259062771471, 0.9999404141371974, 0.9999200173197295, 0.9999195442623301, 0.999960373977372, 0.9998136063642554, 0.9990018324621975, 0.9999747939058483, 0.9999936902976965, 0.9999885443278133, 0.9999918718863434, 0.9998687680967332, 0.999966940584571], \"Term\": [\"abandon\", \"accept\", \"accept\", \"account\", \"action\", \"activ\", \"actual\", \"add\", \"address\", \"adjust\", \"afford\", \"afraid\", \"ahead\", \"alcohol\", \"allow\", \"american\", \"anger\", \"answer\", \"apart\", \"area\", \"argument\", \"arm\", \"arrest\", \"ask\", \"asleep\", \"attend\", \"avail\", \"away\", \"away\", \"back\", \"backward\", \"ball\", \"bare\", \"base\", \"bathroom\", \"beach\", \"bear\", \"begin\", \"begin\", \"benefit\", \"bird\", \"birthday\", \"black\", \"bleed\", \"bless\", \"blog\", \"blogger\", \"blood\", \"bodi\", \"book\", \"boy\", \"brain\", \"breath\", \"brick\", \"bride\", \"bright\", \"british\", \"brother\", \"bucket\", \"build\", \"burn\", \"buy\", \"cage\", \"caller\", \"calm\", \"cancel\", \"cancer\", \"card\", \"career\", \"case\", \"case\", \"cash\", \"cell\", \"charg\", \"chat\", \"cheap\", \"chicken\", \"child\", \"childhood\", \"chines\", \"choke\", \"claim\", \"class\", \"clean\", \"clear\", \"click\", \"close\", \"close\", \"cloth\", \"code\", \"coffe\", \"cold\", \"collect\", \"collect\", \"color\", \"colour\", \"come\", \"comfort\", \"comment\", \"commit\", \"complain\", \"complex\", \"concern\", \"concert\", \"consist\", \"consol\", \"construct\", \"contain\", \"contract\", \"convent\", \"convict\", \"cook\", \"correct\", \"cost\", \"counter\", \"cours\", \"cousin\", \"cover\", \"cover\", \"cover\", \"crawl\", \"cream\", \"creat\", \"credit\", \"critic\", \"cross\", \"crush\", \"current\", \"danger\", \"dark\", \"dead\", \"dead\", \"dear\", \"death\", \"deep\", \"deep\", \"defend\", \"degre\", \"delay\", \"depend\", \"design\", \"destroy\", \"develop\", \"direct\", \"dirt\", \"disea\", \"dismiss\", \"disturb\", \"dive\", \"dog\", \"domain\", \"door\", \"dose\", \"dream\", \"drink\", \"drive\", \"driver\", \"drown\", \"duck\", \"dumb\", \"dust\", \"earth\", \"eat\", \"edit\", \"effect\", \"effort\", \"eld\", \"email\", \"employ\", \"enter\", \"equal\", \"error\", \"even\", \"event\", \"exam\", \"exist\", \"expert\", \"extent\", \"eye\", \"face\", \"fail\", \"fake\", \"fall\", \"famili\", \"farmer\", \"fashion\", \"fashion\", \"father\", \"fault\", \"fear\", \"feel\", \"feel\", \"fellow\", \"field\", \"file\", \"fill\", \"fire\", \"fish\", \"flame\", \"flush\", \"folk\", \"food\", \"foot\", \"form\", \"format\", \"friend\", \"frighten\", \"fuel\", \"gather\", \"geek\", \"german\", \"get\", \"ghost\", \"girl\", \"give\", \"go\", \"go\", \"gold\", \"good\", \"govern\", \"grab\", \"grasp\", \"great\", \"grind\", \"growth\", \"guarante\", \"habit\", \"half\", \"half\", \"hand\", \"happen\", \"hate\", \"haunt\", \"heal\", \"heart\", \"heat\", \"hectic\", \"hero\", \"hide\", \"high\", \"high\", \"high\", \"hit\", \"hold\", \"hole\", \"holi\", \"home\", \"honest\", \"host\", \"hour\", \"hous\", \"hous\", \"html\", \"http\", \"huge\", \"human\", \"humid\", \"hurt\", \"husband\", \"ideal\", \"ignor\", \"improv\", \"inch\", \"increa\", \"info\", \"input\", \"insid\", \"intern\", \"jail\", \"join\", \"journey\", \"kitchen\", \"know\", \"lack\", \"larg\", \"large\", \"last\", \"lawn\", \"layer\", \"leader\", \"leg\", \"legal\", \"lesson\", \"level\", \"lie\", \"lie\", \"life\", \"life\", \"lift\", \"light\", \"limit\", \"link\", \"list\", \"listen\", \"live\", \"live\", \"load\", \"local\", \"long\", \"look\", \"look\", \"loser\", \"loss\", \"love\", \"low\", \"mail\", \"major\", \"major\", \"make\", \"male\", \"market\", \"match\", \"meal\", \"mean\", \"meat\", \"medium\", \"member\", \"mental\", \"menu\", \"midnight\", \"milk\", \"minor\", \"mode\", \"model\", \"modern\", \"moment\", \"moral\", \"morn\", \"mother\", \"move\", \"murder\", \"music\", \"myth\", \"name\", \"nation\", \"need\", \"neighborhood\", \"network\", \"news\", \"night\", \"noon\", \"obtain\", \"offer\", \"offic\", \"open\", \"open\", \"opinion\", \"option\", \"origin\", \"origin\", \"owner\", \"pack\", \"page\", \"pain\", \"pair\", \"park\", \"passion\", \"path\", \"patron\", \"pay\", \"peopl\", \"perform\", \"person\", \"phase\", \"phone\", \"photo\", \"physic\", \"pile\", \"plate\", \"play\", \"player\", \"plea\", \"pocket\", \"poison\", \"politician\", \"pool\", \"pop\", \"popular\", \"posit\", \"post\", \"pour\", \"power\", \"predict\", \"pregnant\", \"prevent\", \"price\", \"pride\", \"prison\", \"probabl\", \"proceed\", \"process\", \"product\", \"profit\", \"program\", \"project\", \"promis\", \"prosper\", \"protect\", \"provid\", \"public\", \"publish\", \"pull\", \"pull\", \"pure\", \"push\", \"put\", \"quarter\", \"question\", \"quick\", \"quiz\", \"race\", \"rain\", \"rat\", \"rate\", \"reach\", \"reach\", \"reaction\", \"read\", \"recommend\", \"record\", \"refer\", \"reflect\", \"region\", \"regret\", \"remain\", \"repeat\", \"report\", \"resist\", \"result\", \"retain\", \"revel\", \"rich\", \"ride\", \"right\", \"rise\", \"risk\", \"road\", \"roll\", \"room\", \"rough\", \"round\", \"rout\", \"rule\", \"run\", \"salad\", \"say\", \"scale\", \"school\", \"score\", \"screen\", \"season\", \"section\", \"seek\", \"select\", \"self\", \"sell\", \"send\", \"send\", \"servic\", \"sever\", \"sexual\", \"shadow\", \"share\", \"shave\", \"shirt\", \"shoe\", \"shoulder\", \"shoulder\", \"sidewalk\", \"similar\", \"sit\", \"site\", \"size\", \"skate\", \"sleep\", \"slow\", \"small\", \"smell\", \"smile\", \"snack\", \"sock\", \"soft\", \"soldier\", \"someday\", \"somewhat\", \"song\", \"soooooo\", \"space\", \"speech\", \"speed\", \"spell\", \"sport\", \"spot\", \"staff\", \"stage\", \"stand\", \"standard\", \"star\", \"start\", \"state\", \"stave\", \"stay\", \"stay\", \"steel\", \"step\", \"stick\", \"stomach\", \"store\", \"storm\", \"strengthen\", \"stretch\", \"strict\", \"strike\", \"strong\", \"student\", \"stuff\", \"style\", \"succeed\", \"success\", \"suffer\", \"suggest\", \"support\", \"suspect\", \"swim\", \"swing\", \"take\", \"talent\", \"talk\", \"tape\", \"tast\", \"tattoo\", \"tax\", \"taxi\", \"teach\", \"teacher\", \"team\", \"tear\", \"tell\", \"tempt\", \"term\", \"terror\", \"terrorist\", \"test\", \"text\", \"theme\", \"thing\", \"think\", \"threat\", \"threaten\", \"ticket\", \"time\", \"titl\", \"today\", \"tomorrow\", \"tonight\", \"topic\", \"total\", \"touch\", \"tourist\", \"town\", \"trail\", \"train\", \"trash\", \"tree\", \"trend\", \"tri\", \"trick\", \"trip\", \"troop\", \"truck\", \"trust\", \"truth\", \"tune\", \"turn\", \"turn\", \"twin\", \"unknown\", \"urllink\", \"useless\", \"victim\", \"video\", \"view\", \"visit\", \"vote\", \"wake\", \"walk\", \"want\", \"warm\", \"watch\", \"watch\", \"water\", \"wave\", \"weak\", \"wear\", \"weather\", \"websit\", \"week\", \"weigh\", \"weight\", \"welcom\", \"white\", \"wife\", \"wind\", \"window\", \"wise\", \"wit\", \"woman\", \"work\", \"write\", \"year\", \"yellow\", \"young\"]}, \"R\": 30, \"lambda.step\": 0.01, \"plot.opts\": {\"xlab\": \"PC1\", \"ylab\": \"PC2\"}, \"topic.order\": [15, 2, 19, 8, 12, 17, 13, 14, 20, 5, 1, 16, 18, 9, 10, 4, 3, 6, 11, 7]};\n",
              "\n",
              "function LDAvis_load_lib(url, callback){\n",
              "  var s = document.createElement('script');\n",
              "  s.src = url;\n",
              "  s.async = true;\n",
              "  s.onreadystatechange = s.onload = callback;\n",
              "  s.onerror = function(){console.warn(\"failed to load library \" + url);};\n",
              "  document.getElementsByTagName(\"head\")[0].appendChild(s);\n",
              "}\n",
              "\n",
              "if(typeof(LDAvis) !== \"undefined\"){\n",
              "   // already loaded: just create the visualization\n",
              "   !function(LDAvis){\n",
              "       new LDAvis(\"#\" + \"ldavis_el8091400173720236881410504946\", ldavis_el8091400173720236881410504946_data);\n",
              "   }(LDAvis);\n",
              "}else if(typeof define === \"function\" && define.amd){\n",
              "   // require.js is available: use it to load d3/LDAvis\n",
              "   require.config({paths: {d3: \"https://cdnjs.cloudflare.com/ajax/libs/d3/3.5.5/d3.min\"}});\n",
              "   require([\"d3\"], function(d3){\n",
              "      window.d3 = d3;\n",
              "      LDAvis_load_lib(\"https://cdn.rawgit.com/bmabey/pyLDAvis/files/ldavis.v1.0.0.js\", function(){\n",
              "        new LDAvis(\"#\" + \"ldavis_el8091400173720236881410504946\", ldavis_el8091400173720236881410504946_data);\n",
              "      });\n",
              "    });\n",
              "}else{\n",
              "    // require.js not available: dynamically load d3 & LDAvis\n",
              "    LDAvis_load_lib(\"https://cdnjs.cloudflare.com/ajax/libs/d3/3.5.5/d3.min.js\", function(){\n",
              "         LDAvis_load_lib(\"https://cdn.rawgit.com/bmabey/pyLDAvis/files/ldavis.v1.0.0.js\", function(){\n",
              "                 new LDAvis(\"#\" + \"ldavis_el8091400173720236881410504946\", ldavis_el8091400173720236881410504946_data);\n",
              "            })\n",
              "         });\n",
              "}\n",
              "</script>"
            ],
            "text/plain": [
              "PreparedData(topic_coordinates=              x         y  topics  cluster       Freq\n",
              "topic                                                \n",
              "14     0.331605 -0.048383       1        1  61.948946\n",
              "1      0.281501  0.022208       2        1   5.498195\n",
              "18     0.105021  0.139405       3        1   4.414738\n",
              "7      0.069289  0.043699       4        1   3.214518\n",
              "11     0.018066  0.013248       5        1   2.791930\n",
              "16    -0.011750  0.145537       6        1   2.416317\n",
              "12    -0.041693  0.072468       7        1   2.373912\n",
              "13     0.029277 -0.338573       8        1   1.912678\n",
              "19    -0.058477  0.041655       9        1   1.694160\n",
              "4     -0.054396  0.039886      10        1   1.637629\n",
              "0     -0.059651  0.039664      11        1   1.570736\n",
              "15    -0.059847  0.029707      12        1   1.487531\n",
              "17    -0.033858  0.017346      13        1   1.456102\n",
              "8     -0.065745  0.022467      14        1   1.381988\n",
              "9     -0.046752  0.023177      15        1   1.368820\n",
              "3     -0.080345  0.005349      16        1   1.091421\n",
              "2     -0.083209  0.000928      17        1   1.051622\n",
              "5     -0.083781  0.000075      18        1   1.000801\n",
              "10    -0.085188 -0.002056      19        1   0.935427\n",
              "6     -0.070067 -0.267806      20        1   0.752527, topic_info=         Term           Freq          Total Category  logprob  loglift\n",
              "681      love  254700.000000  254700.000000  Default  30.0000  30.0000\n",
              "669     write  134517.000000  134517.000000  Default  29.0000  29.0000\n",
              "370    school   95731.000000   95731.000000  Default  28.0000  28.0000\n",
              "745     night  135413.000000  135413.000000  Default  27.0000  27.0000\n",
              "342      read  123889.000000  123889.000000  Default  26.0000  26.0000\n",
              "...       ...            ...            ...      ...      ...      ...\n",
              "1669  forward       0.069186       1.263133  Topic20 -14.8457   1.9849\n",
              "1679  serious       0.069185       1.263096  Topic20 -14.8457   1.9850\n",
              "1743    shall       0.069187       1.263162  Topic20 -14.8457   1.9849\n",
              "1921    worth       0.069185       1.263102  Topic20 -14.8457   1.9850\n",
              "1744   appear       0.069186       1.263156  Topic20 -14.8457   1.9849\n",
              "\n",
              "[706 rows x 6 columns], token_table=      Topic      Freq     Term\n",
              "term                          \n",
              "1647     17  0.999713  abandon\n",
              "807       1  0.517771   accept\n",
              "807       8  0.482194   accept\n",
              "496       7  0.999873  account\n",
              "1043     13  0.999923   action\n",
              "...     ...       ...      ...\n",
              "486       1  0.999994     work\n",
              "669       5  0.999989    write\n",
              "540       1  0.999992     year\n",
              "948      16  0.999869   yellow\n",
              "755      11  0.999967    young\n",
              "\n",
              "[612 rows x 3 columns], R=30, lambda_step=0.01, plot_opts={'xlab': 'PC1', 'ylab': 'PC2'}, topic_order=[15, 2, 19, 8, 12, 17, 13, 14, 20, 5, 1, 16, 18, 9, 10, 4, 3, 6, 11, 7])"
            ]
          },
          "metadata": {
            "tags": []
          },
          "execution_count": 16
        }
      ]
    }
  ]
}